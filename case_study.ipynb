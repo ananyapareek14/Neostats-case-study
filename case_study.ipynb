{
 "cells": [
  {
   "cell_type": "markdown",
   "metadata": {},
   "source": [
    "### Importing all the libraries necessary "
   ]
  },
  {
   "cell_type": "code",
   "execution_count": 1,
   "metadata": {},
   "outputs": [],
   "source": [
    "import pandas as pd\n",
    "import numpy as np\n",
    "import matplotlib.pyplot as plt\n",
    "import seaborn as sns\n",
    "import plotly.express as px\n",
    "import seaborn as sns\n",
    "import matplotlib.pyplot as plt\n",
    "from sklearn.metrics import accuracy_score,confusion_matrix,classification_report\n",
    "from sklearn.metrics import precision_score, recall_score, f1_score\n",
    "from sklearn.model_selection import train_test_split\n",
    "from scipy.stats import chi2_contingency\n",
    "from sklearn.preprocessing import LabelEncoder, OneHotEncoder\n",
    "from sklearn.ensemble import RandomForestClassifier\n",
    "from sklearn.model_selection import RandomizedSearchCV"
   ]
  },
  {
   "cell_type": "markdown",
   "metadata": {},
   "source": [
    "### Importing the dataset"
   ]
  },
  {
   "cell_type": "code",
   "execution_count": 2,
   "metadata": {},
   "outputs": [],
   "source": [
    "excel_file = 'Banking Case - Data.xlsx'\n",
    "df1 = pd.read_excel(excel_file, sheet_name = 'Transaction Data')\n",
    "df2 = pd.read_excel(excel_file, sheet_name = 'Customer Demographics')"
   ]
  },
  {
   "cell_type": "markdown",
   "metadata": {},
   "source": [
    "### Merging the two datasets based on the 'Customer_number' column"
   ]
  },
  {
   "cell_type": "code",
   "execution_count": 3,
   "metadata": {},
   "outputs": [
    {
     "data": {
      "text/html": [
       "<div>\n",
       "<style scoped>\n",
       "    .dataframe tbody tr th:only-of-type {\n",
       "        vertical-align: middle;\n",
       "    }\n",
       "\n",
       "    .dataframe tbody tr th {\n",
       "        vertical-align: top;\n",
       "    }\n",
       "\n",
       "    .dataframe thead th {\n",
       "        text-align: right;\n",
       "    }\n",
       "</style>\n",
       "<table border=\"1\" class=\"dataframe\">\n",
       "  <thead>\n",
       "    <tr style=\"text-align: right;\">\n",
       "      <th></th>\n",
       "      <th>Customer_number</th>\n",
       "      <th>duration</th>\n",
       "      <th>campaign</th>\n",
       "      <th>last_contact_day</th>\n",
       "      <th>previous</th>\n",
       "      <th>Count_Txn</th>\n",
       "      <th>age</th>\n",
       "    </tr>\n",
       "  </thead>\n",
       "  <tbody>\n",
       "    <tr>\n",
       "      <th>count</th>\n",
       "      <td>45211.000000</td>\n",
       "      <td>45172.000000</td>\n",
       "      <td>45211.000000</td>\n",
       "      <td>45211.000000</td>\n",
       "      <td>45211.000000</td>\n",
       "      <td>45210.000000</td>\n",
       "      <td>45211.000000</td>\n",
       "    </tr>\n",
       "    <tr>\n",
       "      <th>mean</th>\n",
       "      <td>23606.000000</td>\n",
       "      <td>258.139511</td>\n",
       "      <td>2.762182</td>\n",
       "      <td>41.832253</td>\n",
       "      <td>0.580323</td>\n",
       "      <td>299.614952</td>\n",
       "      <td>40.980005</td>\n",
       "    </tr>\n",
       "    <tr>\n",
       "      <th>std</th>\n",
       "      <td>13051.435847</td>\n",
       "      <td>257.631452</td>\n",
       "      <td>3.087291</td>\n",
       "      <td>99.457030</td>\n",
       "      <td>2.303441</td>\n",
       "      <td>115.721788</td>\n",
       "      <td>10.838273</td>\n",
       "    </tr>\n",
       "    <tr>\n",
       "      <th>min</th>\n",
       "      <td>1001.000000</td>\n",
       "      <td>-167.000000</td>\n",
       "      <td>0.000000</td>\n",
       "      <td>-9.000000</td>\n",
       "      <td>0.000000</td>\n",
       "      <td>-423.000000</td>\n",
       "      <td>18.000000</td>\n",
       "    </tr>\n",
       "    <tr>\n",
       "      <th>25%</th>\n",
       "      <td>12303.500000</td>\n",
       "      <td>103.000000</td>\n",
       "      <td>1.000000</td>\n",
       "      <td>1.000000</td>\n",
       "      <td>0.000000</td>\n",
       "      <td>200.000000</td>\n",
       "      <td>33.000000</td>\n",
       "    </tr>\n",
       "    <tr>\n",
       "      <th>50%</th>\n",
       "      <td>23606.000000</td>\n",
       "      <td>180.000000</td>\n",
       "      <td>2.000000</td>\n",
       "      <td>1.000000</td>\n",
       "      <td>0.000000</td>\n",
       "      <td>300.000000</td>\n",
       "      <td>39.000000</td>\n",
       "    </tr>\n",
       "    <tr>\n",
       "      <th>75%</th>\n",
       "      <td>34908.500000</td>\n",
       "      <td>319.000000</td>\n",
       "      <td>3.000000</td>\n",
       "      <td>1.000000</td>\n",
       "      <td>0.000000</td>\n",
       "      <td>400.000000</td>\n",
       "      <td>48.000000</td>\n",
       "    </tr>\n",
       "    <tr>\n",
       "      <th>max</th>\n",
       "      <td>46211.000000</td>\n",
       "      <td>4918.000000</td>\n",
       "      <td>63.000000</td>\n",
       "      <td>871.000000</td>\n",
       "      <td>275.000000</td>\n",
       "      <td>499.000000</td>\n",
       "      <td>121.000000</td>\n",
       "    </tr>\n",
       "  </tbody>\n",
       "</table>\n",
       "</div>"
      ],
      "text/plain": [
       "       Customer_number      duration      campaign  last_contact_day  \\\n",
       "count     45211.000000  45172.000000  45211.000000      45211.000000   \n",
       "mean      23606.000000    258.139511      2.762182         41.832253   \n",
       "std       13051.435847    257.631452      3.087291         99.457030   \n",
       "min        1001.000000   -167.000000      0.000000         -9.000000   \n",
       "25%       12303.500000    103.000000      1.000000          1.000000   \n",
       "50%       23606.000000    180.000000      2.000000          1.000000   \n",
       "75%       34908.500000    319.000000      3.000000          1.000000   \n",
       "max       46211.000000   4918.000000     63.000000        871.000000   \n",
       "\n",
       "           previous     Count_Txn           age  \n",
       "count  45211.000000  45210.000000  45211.000000  \n",
       "mean       0.580323    299.614952     40.980005  \n",
       "std        2.303441    115.721788     10.838273  \n",
       "min        0.000000   -423.000000     18.000000  \n",
       "25%        0.000000    200.000000     33.000000  \n",
       "50%        0.000000    300.000000     39.000000  \n",
       "75%        0.000000    400.000000     48.000000  \n",
       "max      275.000000    499.000000    121.000000  "
      ]
     },
     "execution_count": 3,
     "metadata": {},
     "output_type": "execute_result"
    }
   ],
   "source": [
    "df = pd.merge(df1, df2, on='Customer_number')\n",
    "df.drop(['Sno'], axis = 1, inplace=True)\n",
    "df.describe()"
   ]
  },
  {
   "cell_type": "code",
   "execution_count": 4,
   "metadata": {},
   "outputs": [
    {
     "name": "stdout",
     "output_type": "stream",
     "text": [
      "Customer_number      0\n",
      "Insurance            0\n",
      "balance             55\n",
      "housing              0\n",
      "loan                 8\n",
      "contact             43\n",
      "duration            39\n",
      "campaign             0\n",
      "last_contact_day     0\n",
      "previous             0\n",
      "poutcome            15\n",
      "Term Deposit         8\n",
      "Count_Txn            1\n",
      "age                  0\n",
      "job                 13\n",
      "marital             18\n",
      "education           21\n",
      "Annual Income       17\n",
      "Gender               0\n",
      "dtype: int64\n"
     ]
    }
   ],
   "source": [
    "print(df.isnull().sum())"
   ]
  },
  {
   "cell_type": "code",
   "execution_count": 5,
   "metadata": {},
   "outputs": [],
   "source": [
    "nume_col = df.select_dtypes(include=['int64','float64']).columns"
   ]
  },
  {
   "cell_type": "code",
   "execution_count": 6,
   "metadata": {},
   "outputs": [
    {
     "name": "stdout",
     "output_type": "stream",
     "text": [
      "Customer_number      0.000000\n",
      "duration             3.143683\n",
      "campaign             4.824712\n",
      "last_contact_day     2.627820\n",
      "previous            41.846454\n",
      "Count_Txn           -0.015093\n",
      "age                  0.952016\n",
      "dtype: float64\n"
     ]
    }
   ],
   "source": [
    "skewness = df[nume_col].skew()\n",
    "print(skewness)"
   ]
  },
  {
   "cell_type": "code",
   "execution_count": 7,
   "metadata": {},
   "outputs": [
    {
     "name": "stdout",
     "output_type": "stream",
     "text": [
      "Customer_number     0.000000\n",
      "Insurance           0.000000\n",
      "balance             0.121652\n",
      "housing             0.000000\n",
      "loan                0.017695\n",
      "contact             0.095110\n",
      "duration            0.086262\n",
      "campaign            0.000000\n",
      "last_contact_day    0.000000\n",
      "previous            0.000000\n",
      "poutcome            0.033178\n",
      "Term Deposit        0.017695\n",
      "Count_Txn           0.002212\n",
      "age                 0.000000\n",
      "job                 0.028754\n",
      "marital             0.039813\n",
      "education           0.046449\n",
      "Annual Income       0.037601\n",
      "Gender              0.000000\n",
      "dtype: float64\n"
     ]
    }
   ],
   "source": [
    "missing_values = df.isnull().sum()\n",
    "missing_percentage = (missing_values / len(df)) * 100\n",
    "print(missing_percentage)"
   ]
  },
  {
   "cell_type": "code",
   "execution_count": 8,
   "metadata": {},
   "outputs": [
    {
     "name": "stdout",
     "output_type": "stream",
     "text": [
      "Customer_number      0\n",
      "Insurance            0\n",
      "balance             55\n",
      "housing              0\n",
      "loan                 8\n",
      "contact             43\n",
      "duration            39\n",
      "campaign             0\n",
      "last_contact_day     0\n",
      "previous             0\n",
      "poutcome            15\n",
      "Term Deposit         8\n",
      "Count_Txn            1\n",
      "age                  0\n",
      "job                 13\n",
      "marital             18\n",
      "education           21\n",
      "Annual Income       17\n",
      "Gender               0\n",
      "dtype: int64\n"
     ]
    }
   ],
   "source": [
    "print(df.isnull().sum())"
   ]
  },
  {
   "cell_type": "code",
   "execution_count": 9,
   "metadata": {},
   "outputs": [
    {
     "data": {
      "text/html": [
       "<div>\n",
       "<style scoped>\n",
       "    .dataframe tbody tr th:only-of-type {\n",
       "        vertical-align: middle;\n",
       "    }\n",
       "\n",
       "    .dataframe tbody tr th {\n",
       "        vertical-align: top;\n",
       "    }\n",
       "\n",
       "    .dataframe thead th {\n",
       "        text-align: right;\n",
       "    }\n",
       "</style>\n",
       "<table border=\"1\" class=\"dataframe\">\n",
       "  <thead>\n",
       "    <tr style=\"text-align: right;\">\n",
       "      <th></th>\n",
       "      <th>Customer_number</th>\n",
       "      <th>Insurance</th>\n",
       "      <th>balance</th>\n",
       "      <th>housing</th>\n",
       "      <th>loan</th>\n",
       "      <th>contact</th>\n",
       "      <th>duration</th>\n",
       "      <th>campaign</th>\n",
       "      <th>last_contact_day</th>\n",
       "      <th>previous</th>\n",
       "      <th>poutcome</th>\n",
       "      <th>Term Deposit</th>\n",
       "      <th>Count_Txn</th>\n",
       "      <th>age</th>\n",
       "      <th>job</th>\n",
       "      <th>marital</th>\n",
       "      <th>education</th>\n",
       "      <th>Annual Income</th>\n",
       "      <th>Gender</th>\n",
       "    </tr>\n",
       "  </thead>\n",
       "  <tbody>\n",
       "    <tr>\n",
       "      <th>0</th>\n",
       "      <td>1001</td>\n",
       "      <td>no</td>\n",
       "      <td>2143</td>\n",
       "      <td>yes</td>\n",
       "      <td>no</td>\n",
       "      <td>NaN</td>\n",
       "      <td>261.0</td>\n",
       "      <td>1</td>\n",
       "      <td>2</td>\n",
       "      <td>0</td>\n",
       "      <td>unknown</td>\n",
       "      <td>no</td>\n",
       "      <td>351.0</td>\n",
       "      <td>58</td>\n",
       "      <td>management</td>\n",
       "      <td>married</td>\n",
       "      <td>tertiary</td>\n",
       "      <td>839368</td>\n",
       "      <td>M</td>\n",
       "    </tr>\n",
       "    <tr>\n",
       "      <th>1</th>\n",
       "      <td>1002</td>\n",
       "      <td>no</td>\n",
       "      <td>29</td>\n",
       "      <td>yes</td>\n",
       "      <td>no</td>\n",
       "      <td>unknown</td>\n",
       "      <td>151.0</td>\n",
       "      <td>1</td>\n",
       "      <td>2</td>\n",
       "      <td>0</td>\n",
       "      <td>unknown</td>\n",
       "      <td>no</td>\n",
       "      <td>326.0</td>\n",
       "      <td>44</td>\n",
       "      <td>technician</td>\n",
       "      <td>single</td>\n",
       "      <td>secondary</td>\n",
       "      <td>1452858</td>\n",
       "      <td>M</td>\n",
       "    </tr>\n",
       "    <tr>\n",
       "      <th>2</th>\n",
       "      <td>1003</td>\n",
       "      <td>no</td>\n",
       "      <td>2</td>\n",
       "      <td>yes</td>\n",
       "      <td>yes</td>\n",
       "      <td>unknown</td>\n",
       "      <td>76.0</td>\n",
       "      <td>1</td>\n",
       "      <td>2</td>\n",
       "      <td>0</td>\n",
       "      <td>NaN</td>\n",
       "      <td>no</td>\n",
       "      <td>422.0</td>\n",
       "      <td>33</td>\n",
       "      <td>entrepreneur</td>\n",
       "      <td>married</td>\n",
       "      <td>NaN</td>\n",
       "      <td>4851383</td>\n",
       "      <td>F</td>\n",
       "    </tr>\n",
       "    <tr>\n",
       "      <th>3</th>\n",
       "      <td>1004</td>\n",
       "      <td>no</td>\n",
       "      <td>1506</td>\n",
       "      <td>yes</td>\n",
       "      <td>no</td>\n",
       "      <td>unknown</td>\n",
       "      <td>92.0</td>\n",
       "      <td>1</td>\n",
       "      <td>2</td>\n",
       "      <td>0</td>\n",
       "      <td>unknown</td>\n",
       "      <td>no</td>\n",
       "      <td>113.0</td>\n",
       "      <td>47</td>\n",
       "      <td>blue collar</td>\n",
       "      <td>married</td>\n",
       "      <td>unknown</td>\n",
       "      <td>3207754</td>\n",
       "      <td>F</td>\n",
       "    </tr>\n",
       "    <tr>\n",
       "      <th>4</th>\n",
       "      <td>1005</td>\n",
       "      <td>no</td>\n",
       "      <td>1</td>\n",
       "      <td>no</td>\n",
       "      <td>no</td>\n",
       "      <td>unknown</td>\n",
       "      <td>198.0</td>\n",
       "      <td>1</td>\n",
       "      <td>2</td>\n",
       "      <td>0</td>\n",
       "      <td>unknown</td>\n",
       "      <td>no</td>\n",
       "      <td>342.0</td>\n",
       "      <td>33</td>\n",
       "      <td>unknown</td>\n",
       "      <td>single</td>\n",
       "      <td>unknown</td>\n",
       "      <td>2562322</td>\n",
       "      <td>M</td>\n",
       "    </tr>\n",
       "    <tr>\n",
       "      <th>...</th>\n",
       "      <td>...</td>\n",
       "      <td>...</td>\n",
       "      <td>...</td>\n",
       "      <td>...</td>\n",
       "      <td>...</td>\n",
       "      <td>...</td>\n",
       "      <td>...</td>\n",
       "      <td>...</td>\n",
       "      <td>...</td>\n",
       "      <td>...</td>\n",
       "      <td>...</td>\n",
       "      <td>...</td>\n",
       "      <td>...</td>\n",
       "      <td>...</td>\n",
       "      <td>...</td>\n",
       "      <td>...</td>\n",
       "      <td>...</td>\n",
       "      <td>...</td>\n",
       "      <td>...</td>\n",
       "    </tr>\n",
       "    <tr>\n",
       "      <th>45206</th>\n",
       "      <td>46207</td>\n",
       "      <td>no</td>\n",
       "      <td>825</td>\n",
       "      <td>no</td>\n",
       "      <td>no</td>\n",
       "      <td>cellular</td>\n",
       "      <td>0.0</td>\n",
       "      <td>0</td>\n",
       "      <td>-1</td>\n",
       "      <td>0</td>\n",
       "      <td>unknown</td>\n",
       "      <td>yes</td>\n",
       "      <td>152.0</td>\n",
       "      <td>51</td>\n",
       "      <td>technician</td>\n",
       "      <td>married</td>\n",
       "      <td>tertiary</td>\n",
       "      <td>2229818</td>\n",
       "      <td>M</td>\n",
       "    </tr>\n",
       "    <tr>\n",
       "      <th>45207</th>\n",
       "      <td>46208</td>\n",
       "      <td>no</td>\n",
       "      <td>1729</td>\n",
       "      <td>no</td>\n",
       "      <td>no</td>\n",
       "      <td>cellular</td>\n",
       "      <td>0.0</td>\n",
       "      <td>0</td>\n",
       "      <td>-1</td>\n",
       "      <td>0</td>\n",
       "      <td>unknown</td>\n",
       "      <td>yes</td>\n",
       "      <td>334.0</td>\n",
       "      <td>121</td>\n",
       "      <td>retired</td>\n",
       "      <td>divorced</td>\n",
       "      <td>primary</td>\n",
       "      <td>2783556</td>\n",
       "      <td>M</td>\n",
       "    </tr>\n",
       "    <tr>\n",
       "      <th>45208</th>\n",
       "      <td>46209</td>\n",
       "      <td>no</td>\n",
       "      <td>5715</td>\n",
       "      <td>no</td>\n",
       "      <td>no</td>\n",
       "      <td>cellular</td>\n",
       "      <td>1127.0</td>\n",
       "      <td>5</td>\n",
       "      <td>184</td>\n",
       "      <td>3</td>\n",
       "      <td>success</td>\n",
       "      <td>yes</td>\n",
       "      <td>381.0</td>\n",
       "      <td>72</td>\n",
       "      <td>retired</td>\n",
       "      <td>married</td>\n",
       "      <td>secondary</td>\n",
       "      <td>443512</td>\n",
       "      <td>M</td>\n",
       "    </tr>\n",
       "    <tr>\n",
       "      <th>45209</th>\n",
       "      <td>46210</td>\n",
       "      <td>no</td>\n",
       "      <td>668</td>\n",
       "      <td>no</td>\n",
       "      <td>no</td>\n",
       "      <td>telephone</td>\n",
       "      <td>0.0</td>\n",
       "      <td>0</td>\n",
       "      <td>-1</td>\n",
       "      <td>0</td>\n",
       "      <td>unknown</td>\n",
       "      <td>no</td>\n",
       "      <td>211.0</td>\n",
       "      <td>57</td>\n",
       "      <td>blue-collar</td>\n",
       "      <td>married</td>\n",
       "      <td>secondary</td>\n",
       "      <td>4193684</td>\n",
       "      <td>F</td>\n",
       "    </tr>\n",
       "    <tr>\n",
       "      <th>45210</th>\n",
       "      <td>46211</td>\n",
       "      <td>no</td>\n",
       "      <td>2971</td>\n",
       "      <td>no</td>\n",
       "      <td>no</td>\n",
       "      <td>cellular</td>\n",
       "      <td>361.0</td>\n",
       "      <td>2</td>\n",
       "      <td>188</td>\n",
       "      <td>11</td>\n",
       "      <td>other</td>\n",
       "      <td>no</td>\n",
       "      <td>331.0</td>\n",
       "      <td>37</td>\n",
       "      <td>entrepreneur</td>\n",
       "      <td>married</td>\n",
       "      <td>secondary</td>\n",
       "      <td>3617935</td>\n",
       "      <td>M</td>\n",
       "    </tr>\n",
       "  </tbody>\n",
       "</table>\n",
       "<p>45211 rows × 19 columns</p>\n",
       "</div>"
      ],
      "text/plain": [
       "       Customer_number Insurance balance housing loan    contact  duration  \\\n",
       "0                 1001        no    2143     yes   no        NaN     261.0   \n",
       "1                 1002        no      29     yes   no    unknown     151.0   \n",
       "2                 1003        no       2     yes  yes    unknown      76.0   \n",
       "3                 1004        no    1506     yes   no    unknown      92.0   \n",
       "4                 1005        no       1      no   no    unknown     198.0   \n",
       "...                ...       ...     ...     ...  ...        ...       ...   \n",
       "45206            46207        no     825      no   no   cellular       0.0   \n",
       "45207            46208        no    1729      no   no   cellular       0.0   \n",
       "45208            46209        no    5715      no   no   cellular    1127.0   \n",
       "45209            46210        no     668      no   no  telephone       0.0   \n",
       "45210            46211        no    2971      no   no   cellular     361.0   \n",
       "\n",
       "       campaign  last_contact_day  previous poutcome Term Deposit  Count_Txn  \\\n",
       "0             1                 2         0  unknown           no      351.0   \n",
       "1             1                 2         0  unknown           no      326.0   \n",
       "2             1                 2         0      NaN           no      422.0   \n",
       "3             1                 2         0  unknown           no      113.0   \n",
       "4             1                 2         0  unknown           no      342.0   \n",
       "...         ...               ...       ...      ...          ...        ...   \n",
       "45206         0                -1         0  unknown          yes      152.0   \n",
       "45207         0                -1         0  unknown          yes      334.0   \n",
       "45208         5               184         3  success          yes      381.0   \n",
       "45209         0                -1         0  unknown           no      211.0   \n",
       "45210         2               188        11    other           no      331.0   \n",
       "\n",
       "       age           job   marital  education Annual Income Gender  \n",
       "0       58    management   married   tertiary        839368      M  \n",
       "1       44    technician    single  secondary       1452858      M  \n",
       "2       33  entrepreneur   married        NaN       4851383      F  \n",
       "3       47   blue collar   married    unknown       3207754      F  \n",
       "4       33       unknown    single    unknown       2562322      M  \n",
       "...    ...           ...       ...        ...           ...    ...  \n",
       "45206   51    technician   married   tertiary       2229818      M  \n",
       "45207  121       retired  divorced    primary       2783556      M  \n",
       "45208   72       retired   married  secondary        443512      M  \n",
       "45209   57   blue-collar   married  secondary       4193684      F  \n",
       "45210   37  entrepreneur   married  secondary       3617935      M  \n",
       "\n",
       "[45211 rows x 19 columns]"
      ]
     },
     "execution_count": 9,
     "metadata": {},
     "output_type": "execute_result"
    }
   ],
   "source": [
    "df"
   ]
  },
  {
   "cell_type": "code",
   "execution_count": 10,
   "metadata": {},
   "outputs": [],
   "source": [
    "df.replace(['?', ' ', '\\\\','??','??//','????','//??','???'], np.nan, inplace=True)"
   ]
  },
  {
   "cell_type": "code",
   "execution_count": 11,
   "metadata": {},
   "outputs": [],
   "source": [
    "df['age'].fillna(df['age'].mean(), inplace=True)\n",
    "df['campaign'].fillna(df['campaign'].median(), inplace=True)\n",
    "df['previous'].fillna(df['previous'].median(), inplace=True)\n",
    "df['balance'].fillna(df['balance'].median(), inplace=True)\n",
    "df['loan'].fillna(df['loan'].mode()[0], inplace=True)\n",
    "df['contact'].fillna(df['contact'].mode()[0], inplace=True)\n",
    "df['duration'].fillna(df['duration'].median(), inplace=True)\n",
    "df['poutcome'].fillna(df['poutcome'].mode()[0], inplace=True)\n",
    "df['Term Deposit'].fillna(df['Term Deposit'].mode()[0], inplace=True)\n",
    "df['Count_Txn'].fillna(df['Count_Txn'].mean(), inplace=True)\n",
    "df['job'].fillna(df['job'].mode()[0], inplace=True)\n",
    "df['marital'].fillna(df['marital'].mode()[0], inplace=True)\n",
    "df['education'].fillna(df['education'].mode()[0], inplace=True)\n",
    "df['Annual Income'] = pd.to_numeric(df['Annual Income'], errors='coerce')\n",
    "df['Annual Income'].fillna(df['Annual Income'].mean(), inplace=True)"
   ]
  },
  {
   "cell_type": "code",
   "execution_count": 12,
   "metadata": {},
   "outputs": [],
   "source": [
    "# Columns with negative values\n",
    "columns_with_negatives = ['duration', 'last_contact_day','Count_Txn']\n",
    "\n",
    "# Replace negative values with 0\n",
    "for column in columns_with_negatives:\n",
    "    df[column] = df[column].apply(lambda x: 0 if x < 0 else x)"
   ]
  },
  {
   "cell_type": "code",
   "execution_count": 13,
   "metadata": {},
   "outputs": [
    {
     "name": "stdout",
     "output_type": "stream",
     "text": [
      "Customer_number     0\n",
      "Insurance           0\n",
      "balance             0\n",
      "housing             0\n",
      "loan                0\n",
      "contact             0\n",
      "duration            0\n",
      "campaign            0\n",
      "last_contact_day    0\n",
      "previous            0\n",
      "poutcome            0\n",
      "Term Deposit        0\n",
      "Count_Txn           0\n",
      "age                 0\n",
      "job                 0\n",
      "marital             0\n",
      "education           0\n",
      "Annual Income       0\n",
      "Gender              0\n",
      "dtype: int64\n"
     ]
    }
   ],
   "source": [
    "print(df.isnull().sum())"
   ]
  },
  {
   "cell_type": "code",
   "execution_count": 14,
   "metadata": {},
   "outputs": [
    {
     "name": "stdout",
     "output_type": "stream",
     "text": [
      "Customer_number       int64\n",
      "Insurance            object\n",
      "balance             float64\n",
      "housing              object\n",
      "loan                 object\n",
      "contact              object\n",
      "duration            float64\n",
      "campaign              int64\n",
      "last_contact_day      int64\n",
      "previous              int64\n",
      "poutcome             object\n",
      "Term Deposit         object\n",
      "Count_Txn           float64\n",
      "age                   int64\n",
      "job                  object\n",
      "marital              object\n",
      "education            object\n",
      "Annual Income       float64\n",
      "Gender               object\n",
      "dtype: object\n"
     ]
    }
   ],
   "source": [
    "print(df.dtypes)"
   ]
  },
  {
   "cell_type": "code",
   "execution_count": 15,
   "metadata": {},
   "outputs": [
    {
     "data": {
      "text/html": [
       "<div>\n",
       "<style scoped>\n",
       "    .dataframe tbody tr th:only-of-type {\n",
       "        vertical-align: middle;\n",
       "    }\n",
       "\n",
       "    .dataframe tbody tr th {\n",
       "        vertical-align: top;\n",
       "    }\n",
       "\n",
       "    .dataframe thead th {\n",
       "        text-align: right;\n",
       "    }\n",
       "</style>\n",
       "<table border=\"1\" class=\"dataframe\">\n",
       "  <thead>\n",
       "    <tr style=\"text-align: right;\">\n",
       "      <th></th>\n",
       "      <th>Customer_number</th>\n",
       "      <th>Insurance</th>\n",
       "      <th>balance</th>\n",
       "      <th>housing</th>\n",
       "      <th>loan</th>\n",
       "      <th>contact</th>\n",
       "      <th>duration</th>\n",
       "      <th>campaign</th>\n",
       "      <th>last_contact_day</th>\n",
       "      <th>previous</th>\n",
       "      <th>poutcome</th>\n",
       "      <th>Term Deposit</th>\n",
       "      <th>Count_Txn</th>\n",
       "      <th>age</th>\n",
       "      <th>job</th>\n",
       "      <th>marital</th>\n",
       "      <th>education</th>\n",
       "      <th>Annual Income</th>\n",
       "      <th>Gender</th>\n",
       "    </tr>\n",
       "  </thead>\n",
       "  <tbody>\n",
       "    <tr>\n",
       "      <th>0</th>\n",
       "      <td>1001</td>\n",
       "      <td>no</td>\n",
       "      <td>2143.0</td>\n",
       "      <td>yes</td>\n",
       "      <td>no</td>\n",
       "      <td>cellular</td>\n",
       "      <td>261.0</td>\n",
       "      <td>1</td>\n",
       "      <td>2</td>\n",
       "      <td>0</td>\n",
       "      <td>unknown</td>\n",
       "      <td>no</td>\n",
       "      <td>351.0</td>\n",
       "      <td>58</td>\n",
       "      <td>management</td>\n",
       "      <td>married</td>\n",
       "      <td>tertiary</td>\n",
       "      <td>839368.0</td>\n",
       "      <td>M</td>\n",
       "    </tr>\n",
       "    <tr>\n",
       "      <th>1</th>\n",
       "      <td>1002</td>\n",
       "      <td>no</td>\n",
       "      <td>29.0</td>\n",
       "      <td>yes</td>\n",
       "      <td>no</td>\n",
       "      <td>unknown</td>\n",
       "      <td>151.0</td>\n",
       "      <td>1</td>\n",
       "      <td>2</td>\n",
       "      <td>0</td>\n",
       "      <td>unknown</td>\n",
       "      <td>no</td>\n",
       "      <td>326.0</td>\n",
       "      <td>44</td>\n",
       "      <td>technician</td>\n",
       "      <td>single</td>\n",
       "      <td>secondary</td>\n",
       "      <td>1452858.0</td>\n",
       "      <td>M</td>\n",
       "    </tr>\n",
       "    <tr>\n",
       "      <th>2</th>\n",
       "      <td>1003</td>\n",
       "      <td>no</td>\n",
       "      <td>2.0</td>\n",
       "      <td>yes</td>\n",
       "      <td>yes</td>\n",
       "      <td>unknown</td>\n",
       "      <td>76.0</td>\n",
       "      <td>1</td>\n",
       "      <td>2</td>\n",
       "      <td>0</td>\n",
       "      <td>unknown</td>\n",
       "      <td>no</td>\n",
       "      <td>422.0</td>\n",
       "      <td>33</td>\n",
       "      <td>entrepreneur</td>\n",
       "      <td>married</td>\n",
       "      <td>secondary</td>\n",
       "      <td>4851383.0</td>\n",
       "      <td>F</td>\n",
       "    </tr>\n",
       "    <tr>\n",
       "      <th>3</th>\n",
       "      <td>1004</td>\n",
       "      <td>no</td>\n",
       "      <td>1506.0</td>\n",
       "      <td>yes</td>\n",
       "      <td>no</td>\n",
       "      <td>unknown</td>\n",
       "      <td>92.0</td>\n",
       "      <td>1</td>\n",
       "      <td>2</td>\n",
       "      <td>0</td>\n",
       "      <td>unknown</td>\n",
       "      <td>no</td>\n",
       "      <td>113.0</td>\n",
       "      <td>47</td>\n",
       "      <td>blue collar</td>\n",
       "      <td>married</td>\n",
       "      <td>unknown</td>\n",
       "      <td>3207754.0</td>\n",
       "      <td>F</td>\n",
       "    </tr>\n",
       "    <tr>\n",
       "      <th>4</th>\n",
       "      <td>1005</td>\n",
       "      <td>no</td>\n",
       "      <td>1.0</td>\n",
       "      <td>no</td>\n",
       "      <td>no</td>\n",
       "      <td>unknown</td>\n",
       "      <td>198.0</td>\n",
       "      <td>1</td>\n",
       "      <td>2</td>\n",
       "      <td>0</td>\n",
       "      <td>unknown</td>\n",
       "      <td>no</td>\n",
       "      <td>342.0</td>\n",
       "      <td>33</td>\n",
       "      <td>unknown</td>\n",
       "      <td>single</td>\n",
       "      <td>unknown</td>\n",
       "      <td>2562322.0</td>\n",
       "      <td>M</td>\n",
       "    </tr>\n",
       "    <tr>\n",
       "      <th>...</th>\n",
       "      <td>...</td>\n",
       "      <td>...</td>\n",
       "      <td>...</td>\n",
       "      <td>...</td>\n",
       "      <td>...</td>\n",
       "      <td>...</td>\n",
       "      <td>...</td>\n",
       "      <td>...</td>\n",
       "      <td>...</td>\n",
       "      <td>...</td>\n",
       "      <td>...</td>\n",
       "      <td>...</td>\n",
       "      <td>...</td>\n",
       "      <td>...</td>\n",
       "      <td>...</td>\n",
       "      <td>...</td>\n",
       "      <td>...</td>\n",
       "      <td>...</td>\n",
       "      <td>...</td>\n",
       "    </tr>\n",
       "    <tr>\n",
       "      <th>45206</th>\n",
       "      <td>46207</td>\n",
       "      <td>no</td>\n",
       "      <td>825.0</td>\n",
       "      <td>no</td>\n",
       "      <td>no</td>\n",
       "      <td>cellular</td>\n",
       "      <td>0.0</td>\n",
       "      <td>0</td>\n",
       "      <td>0</td>\n",
       "      <td>0</td>\n",
       "      <td>unknown</td>\n",
       "      <td>yes</td>\n",
       "      <td>152.0</td>\n",
       "      <td>51</td>\n",
       "      <td>technician</td>\n",
       "      <td>married</td>\n",
       "      <td>tertiary</td>\n",
       "      <td>2229818.0</td>\n",
       "      <td>M</td>\n",
       "    </tr>\n",
       "    <tr>\n",
       "      <th>45207</th>\n",
       "      <td>46208</td>\n",
       "      <td>no</td>\n",
       "      <td>1729.0</td>\n",
       "      <td>no</td>\n",
       "      <td>no</td>\n",
       "      <td>cellular</td>\n",
       "      <td>0.0</td>\n",
       "      <td>0</td>\n",
       "      <td>0</td>\n",
       "      <td>0</td>\n",
       "      <td>unknown</td>\n",
       "      <td>yes</td>\n",
       "      <td>334.0</td>\n",
       "      <td>121</td>\n",
       "      <td>retired</td>\n",
       "      <td>divorced</td>\n",
       "      <td>primary</td>\n",
       "      <td>2783556.0</td>\n",
       "      <td>M</td>\n",
       "    </tr>\n",
       "    <tr>\n",
       "      <th>45208</th>\n",
       "      <td>46209</td>\n",
       "      <td>no</td>\n",
       "      <td>5715.0</td>\n",
       "      <td>no</td>\n",
       "      <td>no</td>\n",
       "      <td>cellular</td>\n",
       "      <td>1127.0</td>\n",
       "      <td>5</td>\n",
       "      <td>184</td>\n",
       "      <td>3</td>\n",
       "      <td>success</td>\n",
       "      <td>yes</td>\n",
       "      <td>381.0</td>\n",
       "      <td>72</td>\n",
       "      <td>retired</td>\n",
       "      <td>married</td>\n",
       "      <td>secondary</td>\n",
       "      <td>443512.0</td>\n",
       "      <td>M</td>\n",
       "    </tr>\n",
       "    <tr>\n",
       "      <th>45209</th>\n",
       "      <td>46210</td>\n",
       "      <td>no</td>\n",
       "      <td>668.0</td>\n",
       "      <td>no</td>\n",
       "      <td>no</td>\n",
       "      <td>telephone</td>\n",
       "      <td>0.0</td>\n",
       "      <td>0</td>\n",
       "      <td>0</td>\n",
       "      <td>0</td>\n",
       "      <td>unknown</td>\n",
       "      <td>no</td>\n",
       "      <td>211.0</td>\n",
       "      <td>57</td>\n",
       "      <td>blue-collar</td>\n",
       "      <td>married</td>\n",
       "      <td>secondary</td>\n",
       "      <td>4193684.0</td>\n",
       "      <td>F</td>\n",
       "    </tr>\n",
       "    <tr>\n",
       "      <th>45210</th>\n",
       "      <td>46211</td>\n",
       "      <td>no</td>\n",
       "      <td>2971.0</td>\n",
       "      <td>no</td>\n",
       "      <td>no</td>\n",
       "      <td>cellular</td>\n",
       "      <td>361.0</td>\n",
       "      <td>2</td>\n",
       "      <td>188</td>\n",
       "      <td>11</td>\n",
       "      <td>other</td>\n",
       "      <td>no</td>\n",
       "      <td>331.0</td>\n",
       "      <td>37</td>\n",
       "      <td>entrepreneur</td>\n",
       "      <td>married</td>\n",
       "      <td>secondary</td>\n",
       "      <td>3617935.0</td>\n",
       "      <td>M</td>\n",
       "    </tr>\n",
       "  </tbody>\n",
       "</table>\n",
       "<p>45211 rows × 19 columns</p>\n",
       "</div>"
      ],
      "text/plain": [
       "       Customer_number Insurance  balance housing loan    contact  duration  \\\n",
       "0                 1001        no   2143.0     yes   no   cellular     261.0   \n",
       "1                 1002        no     29.0     yes   no    unknown     151.0   \n",
       "2                 1003        no      2.0     yes  yes    unknown      76.0   \n",
       "3                 1004        no   1506.0     yes   no    unknown      92.0   \n",
       "4                 1005        no      1.0      no   no    unknown     198.0   \n",
       "...                ...       ...      ...     ...  ...        ...       ...   \n",
       "45206            46207        no    825.0      no   no   cellular       0.0   \n",
       "45207            46208        no   1729.0      no   no   cellular       0.0   \n",
       "45208            46209        no   5715.0      no   no   cellular    1127.0   \n",
       "45209            46210        no    668.0      no   no  telephone       0.0   \n",
       "45210            46211        no   2971.0      no   no   cellular     361.0   \n",
       "\n",
       "       campaign  last_contact_day  previous poutcome Term Deposit  Count_Txn  \\\n",
       "0             1                 2         0  unknown           no      351.0   \n",
       "1             1                 2         0  unknown           no      326.0   \n",
       "2             1                 2         0  unknown           no      422.0   \n",
       "3             1                 2         0  unknown           no      113.0   \n",
       "4             1                 2         0  unknown           no      342.0   \n",
       "...         ...               ...       ...      ...          ...        ...   \n",
       "45206         0                 0         0  unknown          yes      152.0   \n",
       "45207         0                 0         0  unknown          yes      334.0   \n",
       "45208         5               184         3  success          yes      381.0   \n",
       "45209         0                 0         0  unknown           no      211.0   \n",
       "45210         2               188        11    other           no      331.0   \n",
       "\n",
       "       age           job   marital  education  Annual Income Gender  \n",
       "0       58    management   married   tertiary       839368.0      M  \n",
       "1       44    technician    single  secondary      1452858.0      M  \n",
       "2       33  entrepreneur   married  secondary      4851383.0      F  \n",
       "3       47   blue collar   married    unknown      3207754.0      F  \n",
       "4       33       unknown    single    unknown      2562322.0      M  \n",
       "...    ...           ...       ...        ...            ...    ...  \n",
       "45206   51    technician   married   tertiary      2229818.0      M  \n",
       "45207  121       retired  divorced    primary      2783556.0      M  \n",
       "45208   72       retired   married  secondary       443512.0      M  \n",
       "45209   57   blue-collar   married  secondary      4193684.0      F  \n",
       "45210   37  entrepreneur   married  secondary      3617935.0      M  \n",
       "\n",
       "[45211 rows x 19 columns]"
      ]
     },
     "execution_count": 15,
     "metadata": {},
     "output_type": "execute_result"
    }
   ],
   "source": [
    "df"
   ]
  },
  {
   "cell_type": "code",
   "execution_count": 16,
   "metadata": {},
   "outputs": [],
   "source": [
    "df['contact'] = df['contact'].replace({\n",
    "    'Mobile': 'cellular',\n",
    "    'Tel': 'telephone'\n",
    "})\n",
    "\n",
    "df['job'] = df['job'].replace({\n",
    "    'blue collar': 'blue-collar'\n",
    "})\n",
    "\n",
    "df['education'] = df['education'].replace({\n",
    "    'ter tiary': 'tertiary',\n",
    "    'Primary': 'primary'\n",
    "})"
   ]
  },
  {
   "cell_type": "code",
   "execution_count": 17,
   "metadata": {},
   "outputs": [
    {
     "name": "stdout",
     "output_type": "stream",
     "text": [
      "Customer_number     0\n",
      "Insurance           0\n",
      "balance             0\n",
      "housing             0\n",
      "loan                0\n",
      "contact             0\n",
      "duration            0\n",
      "campaign            0\n",
      "last_contact_day    0\n",
      "previous            0\n",
      "poutcome            0\n",
      "Term Deposit        0\n",
      "Count_Txn           0\n",
      "age                 0\n",
      "job                 0\n",
      "marital             0\n",
      "education           0\n",
      "Annual Income       0\n",
      "Gender              0\n",
      "dtype: int64\n"
     ]
    }
   ],
   "source": [
    "print(df.isnull().sum())"
   ]
  },
  {
   "cell_type": "code",
   "execution_count": 18,
   "metadata": {},
   "outputs": [],
   "source": [
    "def handle_outliers_with_iqr(df):\n",
    "    for column in df.select_dtypes(include=['float64', 'int64']).columns:\n",
    "        Q1 = df[column].quantile(0.25)\n",
    "        Q3 = df[column].quantile(0.75)\n",
    "        IQR = Q3 - Q1\n",
    "        \n",
    "        # Define outlier bounds\n",
    "        lower_bound = Q1 - 1.5 * IQR\n",
    "        upper_bound = Q3 + 1.5 * IQR\n",
    "        \n",
    "        # Find median value within IQR\n",
    "        iqr_median = df[(df[column] >= Q1) & (df[column] <= Q3)][column].median()\n",
    "        \n",
    "        # Replace outliers with the IQR median value\n",
    "        df.loc[(df[column] < lower_bound) | (df[column] > upper_bound), column] = iqr_median\n",
    "    \n",
    "    return df"
   ]
  },
  {
   "cell_type": "code",
   "execution_count": 19,
   "metadata": {},
   "outputs": [
    {
     "data": {
      "image/png": "[encoded data removed]",
      "text/plain": [
       "<Figure size 1500x1000 with 9 Axes>"
      ]
     },
     "metadata": {},
     "output_type": "display_data"
    },
    {
     "data": {
      "image/png": "[encoded data removed]",
      "text/plain": [
       "<Figure size 1500x1000 with 9 Axes>"
      ]
     },
     "metadata": {},
     "output_type": "display_data"
    }
   ],
   "source": [
    "def plot_boxplots(df, title):\n",
    "    plt.figure(figsize=(15, 10))\n",
    "    df_numeric = df.select_dtypes(include=['float64', 'int64'])\n",
    "    for i, column in enumerate(df_numeric.columns, 1):\n",
    "        plt.subplot(4, 4, i)  # Adjust the grid size based on the number of columns\n",
    "        sns.boxplot(y=df[column])\n",
    "        plt.title(column)\n",
    "    plt.suptitle(title, fontsize=16)\n",
    "    plt.tight_layout(rect=[0, 0, 1, 0.95])\n",
    "    plt.show()\n",
    "\n",
    "# Plot boxplots before handling outliers\n",
    "plot_boxplots(df, \"Boxplots Before Handling Outliers\")\n",
    "\n",
    "# Handle outliers in the dataset\n",
    "data_handled = handle_outliers_with_iqr(df.copy())\n",
    "\n",
    "# Plot boxplots after handling outliers\n",
    "plot_boxplots(data_handled, \"Boxplots After Handling Outliers\")\n"
   ]
  },
  {
   "cell_type": "code",
   "execution_count": 20,
   "metadata": {},
   "outputs": [],
   "source": [
    "df.to_csv('Banking_processed.csv', index=False)"
   ]
  },
  {
   "cell_type": "markdown",
   "metadata": {},
   "source": [
    "## Analysis and Visualization Questions:"
   ]
  },
  {
   "cell_type": "markdown",
   "metadata": {},
   "source": [
    "#### 1. Income Insights: How many customers have no annual income? Plot and present the data distribution of these customers."
   ]
  },
  {
   "cell_type": "code",
   "execution_count": 21,
   "metadata": {},
   "outputs": [
    {
     "name": "stdout",
     "output_type": "stream",
     "text": [
      "The number of customers with no annual income are:  0\n"
     ]
    },
    {
     "data": {
      "image/png": "[encoded data removed]",
      "text/plain": [
       "<Figure size 500x300 with 1 Axes>"
      ]
     },
     "metadata": {},
     "output_type": "display_data"
    }
   ],
   "source": [
    "no_income_customers = df[df['Annual Income'] == 0]\n",
    "print(\"The number of customers with no annual income are: \",len(no_income_customers))\n",
    "\n",
    "plt.figure(figsize=(5,3))\n",
    "sns.histplot(no_income_customers['Annual Income'])\n",
    "plt.title('Distribution of Customers with No Annual Income')\n",
    "plt.show()\n",
    "\n",
    "# Hence we can see that there are no customers with 0 annual income."
   ]
  },
  {
   "cell_type": "markdown",
   "metadata": {},
   "source": [
    "#### 2. Loan-Less Customer Profile: Filter out customers who don’t have any type of loan. Plot the distribution of their Income, balance, and profession. How do these metrics differ from those with loans?"
   ]
  },
  {
   "cell_type": "code",
   "execution_count": 22,
   "metadata": {},
   "outputs": [
    {
     "name": "stdout",
     "output_type": "stream",
     "text": [
      "The number of customers without any loan are:  37967\n"
     ]
    },
    {
     "name": "stderr",
     "output_type": "stream",
     "text": [
      "c:\\Users\\Lenovo\\anaconda3\\Lib\\site-packages\\seaborn\\_oldcore.py:1119: FutureWarning: use_inf_as_na option is deprecated and will be removed in a future version. Convert inf values to NaN before operating instead.\n",
      "  with pd.option_context('mode.use_inf_as_na', True):\n"
     ]
    },
    {
     "data": {
      "image/png": "[encoded data removed]",
      "text/plain": [
       "<Figure size 640x480 with 1 Axes>"
      ]
     },
     "metadata": {},
     "output_type": "display_data"
    },
    {
     "name": "stderr",
     "output_type": "stream",
     "text": [
      "c:\\Users\\Lenovo\\anaconda3\\Lib\\site-packages\\seaborn\\_oldcore.py:1119: FutureWarning: use_inf_as_na option is deprecated and will be removed in a future version. Convert inf values to NaN before operating instead.\n",
      "  with pd.option_context('mode.use_inf_as_na', True):\n"
     ]
    },
    {
     "data": {
      "image/png": "[encoded data removed]",
      "text/plain": [
       "<Figure size 640x480 with 1 Axes>"
      ]
     },
     "metadata": {},
     "output_type": "display_data"
    },
    {
     "data": {
      "image/png": "[encoded data removed]",
      "text/plain": [
       "<Figure size 640x480 with 1 Axes>"
      ]
     },
     "metadata": {},
     "output_type": "display_data"
    }
   ],
   "source": [
    "loan_less_customers = df[df['loan'] == 'no']\n",
    "print(\"The number of customers without any loan are: \",len(loan_less_customers))\n",
    "\n",
    "sns.histplot(loan_less_customers['Annual Income'], kde=True)\n",
    "plt.title('Annual Income Distribution of Loan-less Customers')\n",
    "plt.show()\n",
    "\n",
    "sns.histplot(loan_less_customers['balance'], kde=True)\n",
    "plt.title('Balance Distribution of Loan-less Customers')\n",
    "plt.show()\n",
    "\n",
    "sns.countplot(y=loan_less_customers['job'])\n",
    "plt.title('Profession Distribution of Loan-less Customers')\n",
    "plt.show()"
   ]
  },
  {
   "cell_type": "code",
   "execution_count": 23,
   "metadata": {},
   "outputs": [
    {
     "name": "stdout",
     "output_type": "stream",
     "text": [
      "The number of customers without any loan are:  7244\n"
     ]
    },
    {
     "name": "stderr",
     "output_type": "stream",
     "text": [
      "c:\\Users\\Lenovo\\anaconda3\\Lib\\site-packages\\seaborn\\_oldcore.py:1119: FutureWarning: use_inf_as_na option is deprecated and will be removed in a future version. Convert inf values to NaN before operating instead.\n",
      "  with pd.option_context('mode.use_inf_as_na', True):\n"
     ]
    },
    {
     "data": {
      "image/png": "[encoded data removed]",
      "text/plain": [
       "<Figure size 640x480 with 1 Axes>"
      ]
     },
     "metadata": {},
     "output_type": "display_data"
    },
    {
     "name": "stderr",
     "output_type": "stream",
     "text": [
      "c:\\Users\\Lenovo\\anaconda3\\Lib\\site-packages\\seaborn\\_oldcore.py:1119: FutureWarning: use_inf_as_na option is deprecated and will be removed in a future version. Convert inf values to NaN before operating instead.\n",
      "  with pd.option_context('mode.use_inf_as_na', True):\n"
     ]
    },
    {
     "data": {
      "image/png": "[encoded data removed]",
      "text/plain": [
       "<Figure size 640x480 with 1 Axes>"
      ]
     },
     "metadata": {},
     "output_type": "display_data"
    },
    {
     "data": {
      "image/png": "[encoded data removed]",
      "text/plain": [
       "<Figure size 640x480 with 1 Axes>"
      ]
     },
     "metadata": {},
     "output_type": "display_data"
    }
   ],
   "source": [
    "loan_customers = df[df['loan'] == 'yes']\n",
    "print(\"The number of customers without any loan are: \",len(loan_customers))\n",
    "\n",
    "sns.histplot(loan_customers['Annual Income'], kde=True)\n",
    "plt.title('Annual Income Distribution of Customers who have taken a loan')\n",
    "plt.show()\n",
    "\n",
    "sns.histplot(loan_customers['balance'], kde=True)\n",
    "plt.title('Balance Distribution of Customers who have taken a loan')\n",
    "plt.show()\n",
    "\n",
    "sns.countplot(y=loan_customers['job'])\n",
    "plt.title('Profession Distribution of Customers who have taken a loan')\n",
    "plt.show()"
   ]
  },
  {
   "cell_type": "markdown",
   "metadata": {},
   "source": [
    "### 3. Loan and Insaurance analysis: Calculate the percentage of customers with a loan who have taken out insurance. Visualize this data and discuss potential implications."
   ]
  },
  {
   "cell_type": "code",
   "execution_count": 24,
   "metadata": {},
   "outputs": [
    {
     "name": "stdout",
     "output_type": "stream",
     "text": [
      "The number of customers with a loan are:  7244\n",
      "The number of customers with a loan and insurance are:  301\n",
      "Percentage of customers with a loan who have taken out insurance:  4.155162893429045\n"
     ]
    },
    {
     "name": "stderr",
     "output_type": "stream",
     "text": [
      "c:\\Users\\Lenovo\\anaconda3\\Lib\\site-packages\\seaborn\\_oldcore.py:1765: FutureWarning: unique with argument that is not not a Series, Index, ExtensionArray, or np.ndarray is deprecated and will raise in a future version.\n",
      "  order = pd.unique(vector)\n"
     ]
    },
    {
     "data": {
      "image/png": "[encoded data removed]",
      "text/plain": [
       "<Figure size 640x480 with 1 Axes>"
      ]
     },
     "metadata": {},
     "output_type": "display_data"
    }
   ],
   "source": [
    "loan_customers = df[df['loan'] == 'yes']\n",
    "print(\"The number of customers with a loan are: \",len(loan_customers))\n",
    "\n",
    "loan_with_insurance = loan_customers[loan_customers['Insurance'] == 'yes']\n",
    "print(\"The number of customers with a loan and insurance are: \",len(loan_with_insurance))\n",
    "\n",
    "percent = (len(loan_with_insurance) / len(loan_customers)) * 100\n",
    "print(\"Percentage of customers with a loan who have taken out insurance: \",percent)\n",
    "\n",
    "sns.barplot(x=['With Insurance', 'Without Insurance'], y=[len(loan_with_insurance), len(loan_customers)-len(loan_with_insurance)])\n",
    "plt.title('Loan Customers Insurance Status')\n",
    "plt.show()"
   ]
  },
  {
   "cell_type": "markdown",
   "metadata": {},
   "source": [
    "### 4. Communication Strategy Insights:Analyse and summarize the best Contact method (with the highest success percentage) to contact people to ascertain the status of term deposit subscriptions.\n"
   ]
  },
  {
   "cell_type": "code",
   "execution_count": 25,
   "metadata": {},
   "outputs": [
    {
     "name": "stdout",
     "output_type": "stream",
     "text": [
      "contact\n",
      "cellular     82.624315\n",
      "unknown      10.020798\n",
      "telephone     7.354888\n",
      "Name: proportion, dtype: float64\n"
     ]
    },
    {
     "data": {
      "image/png": "[encoded data removed]",
      "text/plain": [
       "<Figure size 640x480 with 1 Axes>"
      ]
     },
     "metadata": {},
     "output_type": "display_data"
    }
   ],
   "source": [
    "contact_success = df[df['Term Deposit'] == 'yes']['contact'].value_counts(normalize=True) * 100\n",
    "print(contact_success)\n",
    "contact_success.plot(kind='bar')\n",
    "plt.title('Success Rate by Contact Method')\n",
    "plt.show()\n"
   ]
  },
  {
   "cell_type": "markdown",
   "metadata": {},
   "source": [
    "### 5. Age and Home Loans: Determine which age group has the highest percentage of home loans. Present this data visually and discuss possible reasons.\n"
   ]
  },
  {
   "cell_type": "code",
   "execution_count": 26,
   "metadata": {},
   "outputs": [
    {
     "name": "stdout",
     "output_type": "stream",
     "text": [
      "age\n",
      "10-20       2.061856\n",
      "20-30      10.284148\n",
      "30-40      10.714084\n",
      "40-50      10.036480\n",
      "50-60       7.673237\n",
      "60-70       1.455604\n",
      "70-80       0.000000\n",
      "80-90       0.000000\n",
      "90-100      0.000000\n",
      "100-110          NaN\n",
      "110-120     0.000000\n",
      "120-130     0.000000\n",
      "dtype: float64\n"
     ]
    },
    {
     "name": "stderr",
     "output_type": "stream",
     "text": [
      "C:\\Users\\Lenovo\\AppData\\Local\\Temp\\ipykernel_6756\\1844137457.py:3: FutureWarning: The default of observed=False is deprecated and will be changed to True in a future version of pandas. Pass observed=False to retain current behavior or observed=True to adopt the future default and silence this warning.\n",
      "  home_loan_by_age = df[(df['loan'] == 'yes') & (df['housing'] == 'yes')].groupby(age_group).size()\n",
      "C:\\Users\\Lenovo\\AppData\\Local\\Temp\\ipykernel_6756\\1844137457.py:4: FutureWarning: The default of observed=False is deprecated and will be changed to True in a future version of pandas. Pass observed=False to retain current behavior or observed=True to adopt the future default and silence this warning.\n",
      "  total_by_age = df.groupby(age_group).size()\n"
     ]
    },
    {
     "data": {
      "image/png": "[encoded data removed]",
      "text/plain": [
       "<Figure size 640x480 with 1 Axes>"
      ]
     },
     "metadata": {},
     "output_type": "display_data"
    }
   ],
   "source": [
    "age_group = pd.cut(df['age'], bins=[10, 20, 30, 40, 50, 60, 70,80,90,100,110,120,130], \n",
    "                   labels=['10-20', '20-30', '30-40', '40-50', '50-60', '60-70', '70-80','80-90','90-100','100-110','110-120','120-130'])\n",
    "home_loan_by_age = df[(df['loan'] == 'yes') & (df['housing'] == 'yes')].groupby(age_group).size()\n",
    "total_by_age = df.groupby(age_group).size()\n",
    "home_loan_percentage = (home_loan_by_age / total_by_age) * 100\n",
    "print(home_loan_percentage)\n",
    "home_loan_percentage.plot(kind='bar')\n",
    "plt.title('Percentage of Home Loans by Age Group')\n",
    "plt.show()"
   ]
  },
  {
   "cell_type": "markdown",
   "metadata": {},
   "source": [
    "### 6. Income and Age Relationship: Investigate any relationships between annual income and age group. Use appropriate plots and statistics to present the findings."
   ]
  },
  {
   "cell_type": "code",
   "execution_count": 27,
   "metadata": {},
   "outputs": [
    {
     "data": {
      "image/png": "[encoded data removed]",
      "text/plain": [
       "<Figure size 647.5x500 with 1 Axes>"
      ]
     },
     "metadata": {},
     "output_type": "display_data"
    }
   ],
   "source": [
    "sns.lmplot(x='age', y='Annual Income', data=df, hue='job')\n",
    "plt.title('Income vs Age by Profession')\n",
    "plt.show()\n"
   ]
  },
  {
   "cell_type": "code",
   "execution_count": 28,
   "metadata": {},
   "outputs": [
    {
     "data": {
      "text/html": [
       "<div>\n",
       "<style scoped>\n",
       "    .dataframe tbody tr th:only-of-type {\n",
       "        vertical-align: middle;\n",
       "    }\n",
       "\n",
       "    .dataframe tbody tr th {\n",
       "        vertical-align: top;\n",
       "    }\n",
       "\n",
       "    .dataframe thead th {\n",
       "        text-align: right;\n",
       "    }\n",
       "</style>\n",
       "<table border=\"1\" class=\"dataframe\">\n",
       "  <thead>\n",
       "    <tr style=\"text-align: right;\">\n",
       "      <th></th>\n",
       "      <th>Customer_number</th>\n",
       "      <th>Insurance</th>\n",
       "      <th>balance</th>\n",
       "      <th>housing</th>\n",
       "      <th>loan</th>\n",
       "      <th>contact</th>\n",
       "      <th>duration</th>\n",
       "      <th>campaign</th>\n",
       "      <th>last_contact_day</th>\n",
       "      <th>previous</th>\n",
       "      <th>poutcome</th>\n",
       "      <th>Term Deposit</th>\n",
       "      <th>Count_Txn</th>\n",
       "      <th>age</th>\n",
       "      <th>job</th>\n",
       "      <th>marital</th>\n",
       "      <th>education</th>\n",
       "      <th>Annual Income</th>\n",
       "      <th>Gender</th>\n",
       "    </tr>\n",
       "  </thead>\n",
       "  <tbody>\n",
       "    <tr>\n",
       "      <th>0</th>\n",
       "      <td>1001</td>\n",
       "      <td>0</td>\n",
       "      <td>2143.0</td>\n",
       "      <td>1</td>\n",
       "      <td>0</td>\n",
       "      <td>cellular</td>\n",
       "      <td>261.0</td>\n",
       "      <td>1</td>\n",
       "      <td>2</td>\n",
       "      <td>0</td>\n",
       "      <td>unknown</td>\n",
       "      <td>0</td>\n",
       "      <td>351.0</td>\n",
       "      <td>58</td>\n",
       "      <td>management</td>\n",
       "      <td>married</td>\n",
       "      <td>tertiary</td>\n",
       "      <td>839368.0</td>\n",
       "      <td>M</td>\n",
       "    </tr>\n",
       "    <tr>\n",
       "      <th>1</th>\n",
       "      <td>1002</td>\n",
       "      <td>0</td>\n",
       "      <td>29.0</td>\n",
       "      <td>1</td>\n",
       "      <td>0</td>\n",
       "      <td>unknown</td>\n",
       "      <td>151.0</td>\n",
       "      <td>1</td>\n",
       "      <td>2</td>\n",
       "      <td>0</td>\n",
       "      <td>unknown</td>\n",
       "      <td>0</td>\n",
       "      <td>326.0</td>\n",
       "      <td>44</td>\n",
       "      <td>technician</td>\n",
       "      <td>single</td>\n",
       "      <td>secondary</td>\n",
       "      <td>1452858.0</td>\n",
       "      <td>M</td>\n",
       "    </tr>\n",
       "    <tr>\n",
       "      <th>2</th>\n",
       "      <td>1003</td>\n",
       "      <td>0</td>\n",
       "      <td>2.0</td>\n",
       "      <td>1</td>\n",
       "      <td>1</td>\n",
       "      <td>unknown</td>\n",
       "      <td>76.0</td>\n",
       "      <td>1</td>\n",
       "      <td>2</td>\n",
       "      <td>0</td>\n",
       "      <td>unknown</td>\n",
       "      <td>0</td>\n",
       "      <td>422.0</td>\n",
       "      <td>33</td>\n",
       "      <td>entrepreneur</td>\n",
       "      <td>married</td>\n",
       "      <td>secondary</td>\n",
       "      <td>4851383.0</td>\n",
       "      <td>F</td>\n",
       "    </tr>\n",
       "    <tr>\n",
       "      <th>3</th>\n",
       "      <td>1004</td>\n",
       "      <td>0</td>\n",
       "      <td>1506.0</td>\n",
       "      <td>1</td>\n",
       "      <td>0</td>\n",
       "      <td>unknown</td>\n",
       "      <td>92.0</td>\n",
       "      <td>1</td>\n",
       "      <td>2</td>\n",
       "      <td>0</td>\n",
       "      <td>unknown</td>\n",
       "      <td>0</td>\n",
       "      <td>113.0</td>\n",
       "      <td>47</td>\n",
       "      <td>blue-collar</td>\n",
       "      <td>married</td>\n",
       "      <td>unknown</td>\n",
       "      <td>3207754.0</td>\n",
       "      <td>F</td>\n",
       "    </tr>\n",
       "    <tr>\n",
       "      <th>4</th>\n",
       "      <td>1005</td>\n",
       "      <td>0</td>\n",
       "      <td>1.0</td>\n",
       "      <td>0</td>\n",
       "      <td>0</td>\n",
       "      <td>unknown</td>\n",
       "      <td>198.0</td>\n",
       "      <td>1</td>\n",
       "      <td>2</td>\n",
       "      <td>0</td>\n",
       "      <td>unknown</td>\n",
       "      <td>0</td>\n",
       "      <td>342.0</td>\n",
       "      <td>33</td>\n",
       "      <td>unknown</td>\n",
       "      <td>single</td>\n",
       "      <td>unknown</td>\n",
       "      <td>2562322.0</td>\n",
       "      <td>M</td>\n",
       "    </tr>\n",
       "    <tr>\n",
       "      <th>...</th>\n",
       "      <td>...</td>\n",
       "      <td>...</td>\n",
       "      <td>...</td>\n",
       "      <td>...</td>\n",
       "      <td>...</td>\n",
       "      <td>...</td>\n",
       "      <td>...</td>\n",
       "      <td>...</td>\n",
       "      <td>...</td>\n",
       "      <td>...</td>\n",
       "      <td>...</td>\n",
       "      <td>...</td>\n",
       "      <td>...</td>\n",
       "      <td>...</td>\n",
       "      <td>...</td>\n",
       "      <td>...</td>\n",
       "      <td>...</td>\n",
       "      <td>...</td>\n",
       "      <td>...</td>\n",
       "    </tr>\n",
       "    <tr>\n",
       "      <th>45206</th>\n",
       "      <td>46207</td>\n",
       "      <td>0</td>\n",
       "      <td>825.0</td>\n",
       "      <td>0</td>\n",
       "      <td>0</td>\n",
       "      <td>cellular</td>\n",
       "      <td>0.0</td>\n",
       "      <td>0</td>\n",
       "      <td>0</td>\n",
       "      <td>0</td>\n",
       "      <td>unknown</td>\n",
       "      <td>1</td>\n",
       "      <td>152.0</td>\n",
       "      <td>51</td>\n",
       "      <td>technician</td>\n",
       "      <td>married</td>\n",
       "      <td>tertiary</td>\n",
       "      <td>2229818.0</td>\n",
       "      <td>M</td>\n",
       "    </tr>\n",
       "    <tr>\n",
       "      <th>45207</th>\n",
       "      <td>46208</td>\n",
       "      <td>0</td>\n",
       "      <td>1729.0</td>\n",
       "      <td>0</td>\n",
       "      <td>0</td>\n",
       "      <td>cellular</td>\n",
       "      <td>0.0</td>\n",
       "      <td>0</td>\n",
       "      <td>0</td>\n",
       "      <td>0</td>\n",
       "      <td>unknown</td>\n",
       "      <td>1</td>\n",
       "      <td>334.0</td>\n",
       "      <td>121</td>\n",
       "      <td>retired</td>\n",
       "      <td>divorced</td>\n",
       "      <td>primary</td>\n",
       "      <td>2783556.0</td>\n",
       "      <td>M</td>\n",
       "    </tr>\n",
       "    <tr>\n",
       "      <th>45208</th>\n",
       "      <td>46209</td>\n",
       "      <td>0</td>\n",
       "      <td>5715.0</td>\n",
       "      <td>0</td>\n",
       "      <td>0</td>\n",
       "      <td>cellular</td>\n",
       "      <td>1127.0</td>\n",
       "      <td>5</td>\n",
       "      <td>184</td>\n",
       "      <td>3</td>\n",
       "      <td>success</td>\n",
       "      <td>1</td>\n",
       "      <td>381.0</td>\n",
       "      <td>72</td>\n",
       "      <td>retired</td>\n",
       "      <td>married</td>\n",
       "      <td>secondary</td>\n",
       "      <td>443512.0</td>\n",
       "      <td>M</td>\n",
       "    </tr>\n",
       "    <tr>\n",
       "      <th>45209</th>\n",
       "      <td>46210</td>\n",
       "      <td>0</td>\n",
       "      <td>668.0</td>\n",
       "      <td>0</td>\n",
       "      <td>0</td>\n",
       "      <td>telephone</td>\n",
       "      <td>0.0</td>\n",
       "      <td>0</td>\n",
       "      <td>0</td>\n",
       "      <td>0</td>\n",
       "      <td>unknown</td>\n",
       "      <td>0</td>\n",
       "      <td>211.0</td>\n",
       "      <td>57</td>\n",
       "      <td>blue-collar</td>\n",
       "      <td>married</td>\n",
       "      <td>secondary</td>\n",
       "      <td>4193684.0</td>\n",
       "      <td>F</td>\n",
       "    </tr>\n",
       "    <tr>\n",
       "      <th>45210</th>\n",
       "      <td>46211</td>\n",
       "      <td>0</td>\n",
       "      <td>2971.0</td>\n",
       "      <td>0</td>\n",
       "      <td>0</td>\n",
       "      <td>cellular</td>\n",
       "      <td>361.0</td>\n",
       "      <td>2</td>\n",
       "      <td>188</td>\n",
       "      <td>11</td>\n",
       "      <td>other</td>\n",
       "      <td>0</td>\n",
       "      <td>331.0</td>\n",
       "      <td>37</td>\n",
       "      <td>entrepreneur</td>\n",
       "      <td>married</td>\n",
       "      <td>secondary</td>\n",
       "      <td>3617935.0</td>\n",
       "      <td>M</td>\n",
       "    </tr>\n",
       "  </tbody>\n",
       "</table>\n",
       "<p>45211 rows × 19 columns</p>\n",
       "</div>"
      ],
      "text/plain": [
       "       Customer_number  Insurance  balance  housing  loan    contact  \\\n",
       "0                 1001          0   2143.0        1     0   cellular   \n",
       "1                 1002          0     29.0        1     0    unknown   \n",
       "2                 1003          0      2.0        1     1    unknown   \n",
       "3                 1004          0   1506.0        1     0    unknown   \n",
       "4                 1005          0      1.0        0     0    unknown   \n",
       "...                ...        ...      ...      ...   ...        ...   \n",
       "45206            46207          0    825.0        0     0   cellular   \n",
       "45207            46208          0   1729.0        0     0   cellular   \n",
       "45208            46209          0   5715.0        0     0   cellular   \n",
       "45209            46210          0    668.0        0     0  telephone   \n",
       "45210            46211          0   2971.0        0     0   cellular   \n",
       "\n",
       "       duration  campaign  last_contact_day  previous poutcome  Term Deposit  \\\n",
       "0         261.0         1                 2         0  unknown             0   \n",
       "1         151.0         1                 2         0  unknown             0   \n",
       "2          76.0         1                 2         0  unknown             0   \n",
       "3          92.0         1                 2         0  unknown             0   \n",
       "4         198.0         1                 2         0  unknown             0   \n",
       "...         ...       ...               ...       ...      ...           ...   \n",
       "45206       0.0         0                 0         0  unknown             1   \n",
       "45207       0.0         0                 0         0  unknown             1   \n",
       "45208    1127.0         5               184         3  success             1   \n",
       "45209       0.0         0                 0         0  unknown             0   \n",
       "45210     361.0         2               188        11    other             0   \n",
       "\n",
       "       Count_Txn  age           job   marital  education  Annual Income Gender  \n",
       "0          351.0   58    management   married   tertiary       839368.0      M  \n",
       "1          326.0   44    technician    single  secondary      1452858.0      M  \n",
       "2          422.0   33  entrepreneur   married  secondary      4851383.0      F  \n",
       "3          113.0   47   blue-collar   married    unknown      3207754.0      F  \n",
       "4          342.0   33       unknown    single    unknown      2562322.0      M  \n",
       "...          ...  ...           ...       ...        ...            ...    ...  \n",
       "45206      152.0   51    technician   married   tertiary      2229818.0      M  \n",
       "45207      334.0  121       retired  divorced    primary      2783556.0      M  \n",
       "45208      381.0   72       retired   married  secondary       443512.0      M  \n",
       "45209      211.0   57   blue-collar   married  secondary      4193684.0      F  \n",
       "45210      331.0   37  entrepreneur   married  secondary      3617935.0      M  \n",
       "\n",
       "[45211 rows x 19 columns]"
      ]
     },
     "execution_count": 28,
     "metadata": {},
     "output_type": "execute_result"
    }
   ],
   "source": [
    "binary_columns = ['Insurance', 'housing', 'loan', 'Term Deposit']\n",
    "\n",
    "for column in binary_columns:\n",
    "    df[column] = df[column].map({'yes': 1, 'no': 0})\n",
    "\n",
    "df"
   ]
  },
  {
   "cell_type": "markdown",
   "metadata": {},
   "source": [
    "## Modeling"
   ]
  },
  {
   "cell_type": "markdown",
   "metadata": {},
   "source": [
    "### 1. Term Deposit and Related Variables: Identify variables strongly related to Term Deposit. Discuss your approach when the variable is categorical. Which tests or metrics will you employ?\n"
   ]
  },
  {
   "cell_type": "code",
   "execution_count": 29,
   "metadata": {},
   "outputs": [
    {
     "name": "stdout",
     "output_type": "stream",
     "text": [
      "       Customer_number  Insurance  balance  housing  loan  duration  campaign  \\\n",
      "0                 1001          0   2143.0        1     0     261.0         1   \n",
      "1                 1002          0     29.0        1     0     151.0         1   \n",
      "2                 1003          0      2.0        1     1      76.0         1   \n",
      "3                 1004          0   1506.0        1     0      92.0         1   \n",
      "4                 1005          0      1.0        0     0     198.0         1   \n",
      "...                ...        ...      ...      ...   ...       ...       ...   \n",
      "45206            46207          0    825.0        0     0       0.0         0   \n",
      "45207            46208          0   1729.0        0     0       0.0         0   \n",
      "45208            46209          0   5715.0        0     0    1127.0         5   \n",
      "45209            46210          0    668.0        0     0       0.0         0   \n",
      "45210            46211          0   2971.0        0     0     361.0         2   \n",
      "\n",
      "       last_contact_day  previous  Term Deposit  ...  marital_divorced  \\\n",
      "0                     2         0             0  ...               0.0   \n",
      "1                     2         0             0  ...               0.0   \n",
      "2                     2         0             0  ...               0.0   \n",
      "3                     2         0             0  ...               0.0   \n",
      "4                     2         0             0  ...               0.0   \n",
      "...                 ...       ...           ...  ...               ...   \n",
      "45206                 0         0             1  ...               0.0   \n",
      "45207                 0         0             1  ...               1.0   \n",
      "45208               184         3             1  ...               0.0   \n",
      "45209                 0         0             0  ...               0.0   \n",
      "45210               188        11             0  ...               0.0   \n",
      "\n",
      "       marital_married  marital_single  education_primary  \\\n",
      "0                  1.0             0.0                0.0   \n",
      "1                  0.0             1.0                0.0   \n",
      "2                  1.0             0.0                0.0   \n",
      "3                  1.0             0.0                0.0   \n",
      "4                  0.0             1.0                0.0   \n",
      "...                ...             ...                ...   \n",
      "45206              1.0             0.0                0.0   \n",
      "45207              0.0             0.0                1.0   \n",
      "45208              1.0             0.0                0.0   \n",
      "45209              1.0             0.0                0.0   \n",
      "45210              1.0             0.0                0.0   \n",
      "\n",
      "       education_secondary  education_tertiary  education_unknown  Gender_F  \\\n",
      "0                      0.0                 1.0                0.0       0.0   \n",
      "1                      1.0                 0.0                0.0       0.0   \n",
      "2                      1.0                 0.0                0.0       1.0   \n",
      "3                      0.0                 0.0                1.0       1.0   \n",
      "4                      0.0                 0.0                1.0       0.0   \n",
      "...                    ...                 ...                ...       ...   \n",
      "45206                  0.0                 1.0                0.0       0.0   \n",
      "45207                  0.0                 0.0                0.0       0.0   \n",
      "45208                  1.0                 0.0                0.0       0.0   \n",
      "45209                  1.0                 0.0                0.0       1.0   \n",
      "45210                  1.0                 0.0                0.0       0.0   \n",
      "\n",
      "       Gender_M  job_encoded  \n",
      "0           1.0            4  \n",
      "1           1.0            9  \n",
      "2           0.0            2  \n",
      "3           0.0            1  \n",
      "4           1.0           11  \n",
      "...         ...          ...  \n",
      "45206       1.0            9  \n",
      "45207       1.0            5  \n",
      "45208       1.0            5  \n",
      "45209       0.0            1  \n",
      "45210       1.0            2  \n",
      "\n",
      "[45211 rows x 31 columns]\n"
     ]
    },
    {
     "name": "stderr",
     "output_type": "stream",
     "text": [
      "c:\\Users\\Lenovo\\anaconda3\\Lib\\site-packages\\sklearn\\preprocessing\\_encoders.py:868: FutureWarning: `sparse` was renamed to `sparse_output` in version 1.2 and will be removed in 1.4. `sparse_output` is ignored unless you leave `sparse` to its default value.\n",
      "  warnings.warn(\n"
     ]
    }
   ],
   "source": [
    "columns_to_one_hot_encode = ['contact', 'poutcome', 'marital', 'education', 'Gender']\n",
    "one_hot_encoder = OneHotEncoder(sparse=False)\n",
    "one_hot_encoded_columns = one_hot_encoder.fit_transform(df[columns_to_one_hot_encode])\n",
    "\n",
    "# Create new columns for one-hot encoded columns\n",
    "one_hot_encoded_columns_df = pd.DataFrame(one_hot_encoded_columns, columns=one_hot_encoder.get_feature_names_out(columns_to_one_hot_encode))\n",
    "\n",
    "# Label encoding for job column\n",
    "label_encoder = LabelEncoder()\n",
    "label_encoded_job = label_encoder.fit_transform(df['job'])\n",
    "\n",
    "\n",
    "# Concatenate the original dataframe with the one-hot encoded columns and the label encoded job column\n",
    "df_encoded = pd.concat([df, one_hot_encoded_columns_df], axis=1)\n",
    "df_encoded['job_encoded'] = label_encoded_job\n",
    "\n",
    "# Drop the original columns that were encoded\n",
    "df_encoded.drop(columns_to_one_hot_encode + ['job'], axis=1, inplace=True)\n",
    "\n",
    "# Print the encoded dataframe\n",
    "print(df_encoded)"
   ]
  },
  {
   "cell_type": "code",
   "execution_count": 30,
   "metadata": {},
   "outputs": [],
   "source": [
    "df_encoded.to_csv(\"Banking_encoded.csv\", index=False)"
   ]
  },
  {
   "cell_type": "code",
   "execution_count": 31,
   "metadata": {},
   "outputs": [
    {
     "data": {
      "application/vnd.plotly.v1+json": {
       "config": {
        "plotlyServerURL": "https://plot.ly"
       },
       "data": [
        {
         "coloraxis": "coloraxis",
         "hovertemplate": "x: %{x}<br>y: %{y}<br>color: %{z}<extra></extra>",
         "name": "0",
         "textfont": {
          "color": "black",
          "size": 9
         },
         "texttemplate": "%{z}",
         "type": "heatmap",
         "x": [
          "Customer_number",
          "Insurance",
          "balance",
          "housing",
          "loan",
          "duration",
          "campaign",
          "last_contact_day",
          "previous",
          "Term Deposit",
          "Count_Txn",
          "age",
          "Annual Income",
          "contact_cellular",
          "contact_telephone",
          "contact_unknown",
          "poutcome_failure",
          "poutcome_other",
          "poutcome_pending",
          "poutcome_success",
          "poutcome_unknown",
          "marital_divorced",
          "marital_married",
          "marital_single",
          "education_primary",
          "education_secondary",
          "education_tertiary",
          "education_unknown",
          "Gender_F",
          "Gender_M",
          "job_encoded"
         ],
         "xaxis": "x",
         "y": [
          "Customer_number",
          "Insurance",
          "balance",
          "housing",
          "loan",
          "duration",
          "campaign",
          "last_contact_day",
          "previous",
          "Term Deposit",
          "Count_Txn",
          "age",
          "Annual Income",
          "contact_cellular",
          "contact_telephone",
          "contact_unknown",
          "poutcome_failure",
          "poutcome_other",
          "poutcome_pending",
          "poutcome_success",
          "poutcome_unknown",
          "marital_divorced",
          "marital_married",
          "marital_single",
          "education_primary",
          "education_secondary",
          "education_tertiary",
          "education_unknown",
          "Gender_F",
          "Gender_M",
          "job_encoded"
         ],
         "yaxis": "y",
         "z": [
          [
           1,
           -0.05309810576511977,
           0.0677724249020974,
           -0.17614323407188434,
           -0.08423981898292672,
           0.012360997389326833,
           -0.10314910686199999,
           0.4367991663200586,
           0.27109833346757073,
           0.2962874966016379,
           0.001661452418184521,
           0.020205130766068537,
           -0.07935841969353769,
           0.6426889194766269,
           0.12988832005895334,
           -0.7479159478629189,
           0.3337176860952144,
           0.20717767868415415,
           -0.060352613844902335,
           0.26354818706092575,
           -0.4904833538598863,
           -0.023306286401175935,
           -0.07124291486187216,
           0.09394310779271364,
           -0.06805306932865007,
           -0.04687727249686895,
           0.10810092923229601,
           -0.007199118201651419,
           0.00021561858991605355,
           -0.00021561858991726832,
           0.0632765109170305
          ],
          [
           -0.05309810576511977,
           1,
           -0.04726470846299564,
           -0.006025218356252717,
           0.07723424107915222,
           -0.009981706237273014,
           0.016952799300922843,
           -0.029872973540918953,
           -0.018329404816568817,
           -0.022418965890751163,
           -0.0011818868747304238,
           -0.018064673433862834,
           0.00807994950247154,
           -0.009219932358698616,
           -0.018911259687129395,
           0.019919560884649173,
           -0.026388629460603517,
           -0.014445338108288564,
           0.000040719037334503234,
           -0.023344164485703617,
           0.0393845366850978,
           0.01728858087476854,
           -0.014157538829730731,
           0.0031353787691204785,
           0.0016480289329945728,
           0.013184269409636434,
           -0.015220718951187324,
           -0.0012358737352559973,
           -0.006196708557518234,
           0.006196708557518383,
           -0.006815534533453715
          ],
          [
           0.0677724249020974,
           -0.04726470846299564,
           1,
           -0.06157258104377066,
           -0.07451708018615932,
           0.021384657118270135,
           -0.013568906812251291,
           0.0017418042989782118,
           0.015292611578292606,
           0.04974771957762817,
           -0.00434328024678165,
           0.09918768951987374,
           0.005782783356408719,
           0.013036097413645966,
           0.03493787580036589,
           -0.03258429287983674,
           0.010702448433347313,
           0.007471168107095546,
           -0.010833116070775252,
           0.03248138186711081,
           -0.026503085491105183,
           -0.020023410175846353,
           0.026712884297935568,
           -0.014842688437682189,
           -0.016467812229452105,
           -0.06774804022450949,
           0.08266386188859864,
           0.010580614289883437,
           -0.00464241329005357,
           0.00464241329005337,
           0.01729286492972294
          ],
          [
           -0.17614323407188434,
           -0.006025218356252717,
           -0.06157258104377066,
           1,
           0.041322866041332486,
           0.004999397294300018,
           -0.02394477063796211,
           0.12453355006537027,
           0.037076149703310586,
           -0.13917270249816852,
           -0.0016181759283922994,
           -0.1856436194126618,
           0.011370876250809951,
           -0.15605956772642224,
           -0.0789176791114652,
           0.20715118410764485,
           0.10679487664199974,
           0.03970953357018299,
           0.026089220739492772,
           -0.0913602631376339,
           -0.06593941067417186,
           0.00159262174913231,
           0.017924061680522536,
           -0.020608648223505076,
           0.010507291152108775,
           0.1018971939302174,
           -0.09931184257432386,
           -0.04759514446021786,
           -0.0028168890003330478,
           0.002816889000333783,
           -0.12537917414676394
          ],
          [
           -0.08423981898292672,
           0.07723424107915222,
           -0.07451708018615932,
           0.041322866041332486,
           1,
           -0.01238479205756947,
           0.010210178098016132,
           -0.022661431211956237,
           -0.01104348825128201,
           -0.06818503472421278,
           -0.003421639529228071,
           -0.016858433662710313,
           -0.007882583005639918,
           0.014027797327437636,
           -0.01480112297212285,
           -0.006817388357255497,
           -0.0021858917305461567,
           -0.009099203932009732,
           0.00032442416563086354,
           -0.053712601368722086,
           0.031296241506622774,
           0.016282770205247255,
           0.03691240620115067,
           -0.0516552600269737,
           -0.012653497680541463,
           0.07075106142215781,
           -0.045879479252471066,
           -0.04999243439613911,
           -0.0011040721643646176,
           0.0011040721643646324,
           -0.03293812817646665
          ],
          [
           0.012360997389326833,
           -0.009981706237273014,
           0.021384657118270135,
           0.004999397294300018,
           -0.01238479205756947,
           1,
           -0.08447732797168198,
           -0.0015628278761133075,
           0.001439176402148833,
           0.39361837036746766,
           -0.003994239571860087,
           -0.0019717983992721495,
           0.006084489062767805,
           0.024525264119702416,
           -0.022679946556565626,
           -0.013642669544133916,
           -0.018582530832297613,
           -0.001841020928264116,
           0.00847971609825129,
           0.04244674637744511,
           -0.004606125903783959,
           0.006110428225529445,
           -0.02249725553778482,
           0.02012024058423014,
           -0.0035514469734332396,
           0.002100055192087048,
           0.0007493608779939935,
           -0.0005940393116166647,
           0.010641670266640198,
           -0.010641670266640289,
           0.004213453832692204
          ],
          [
           -0.10314910686199999,
           0.016952799300922843,
           -0.013568906812251291,
           -0.02394477063796211,
           0.010210178098016132,
           -0.08447732797168198,
           1,
           -0.08847950070105572,
           -0.03283410463148789,
           -0.07352052725446397,
           -0.002063917124061428,
           0.004071354625500445,
           -0.00686721248788189,
           -0.028878777486853174,
           0.05325899445628933,
           0.0017503500580665157,
           -0.08825010811363863,
           -0.020066384967105895,
           -0.019303953554390088,
           -0.05758627156962147,
           0.10954588466517623,
           -0.01538618275297903,
           0.03188567551350555,
           -0.02375061008760751,
           0.008784686874991508,
           -0.02062253681581543,
           0.013168570798406918,
           0.005834780832768724,
           -0.0012295874690141336,
           0.0012295874690144658,
           0.0062050382444140606
          ],
          [
           0.4367991663200586,
           -0.029872973540918953,
           0.0017418042989782118,
           0.12453355006537027,
           -0.022661431211956237,
           -0.0015628278761133075,
           -0.08847950070105572,
           1,
           0.45375041800006116,
           0.1030152624293781,
           0.007295787257435697,
           -0.022303764341126447,
           -0.03253946147659546,
           0.22409728694815276,
           0.017362765280619755,
           -0.24573357868588314,
           0.7000564231088516,
           0.38903845511944113,
           -0.014022645144114502,
           0.22702546197553766,
           -0.8645754110626569,
           0.003025807650831737,
           -0.027690723425331264,
           0.027950411411546344,
           -0.017127248178352702,
           0.022129976743563103,
           -0.007787705729212986,
           -0.0069151408284804546,
           0.0019696496367223844,
           -0.0019696496367235332,
           -0.024493877880532776
          ],
          [
           0.27109833346757073,
           -0.018329404816568817,
           0.015292611578292606,
           0.037076149703310586,
           -0.01104348825128201,
           0.001439176402148833,
           -0.03283410463148789,
           0.45375041800006116,
           1,
           0.09323577278887661,
           -0.004378642500255841,
           0.0020622387388977708,
           -0.01125744475078818,
           0.13087576512423973,
           0.029083065703892817,
           -0.1537232871075978,
           0.3506267346608897,
           0.3066152213724304,
           -0.008792682202307915,
           0.20142400926016776,
           -0.5306003158921907,
           -0.004483173898965658,
           -0.012759627418894755,
           0.017044212991417954,
           -0.016661647814070393,
           -0.0056702613637163515,
           0.02292575495677543,
           -0.00825734032863405,
           -0.0037211965184612665,
           0.0037211965184605258,
           -0.0008408027471247879
          ],
          [
           0.2962874966016379,
           -0.022418965890751163,
           0.04974771957762817,
           -0.13917270249816852,
           -0.06818503472421278,
           0.39361837036746766,
           -0.07352052725446397,
           0.1030152624293781,
           0.09323577278887661,
           1,
           -0.0025886473575362843,
           0.030781683718051584,
           -0.013044300683782926,
           0.13473467557927163,
           0.015030683879351726,
           -0.15021834233768994,
           0.009885453006005566,
           0.031955010866475515,
           -0.012702940120916346,
           0.30678821065127615,
           -0.16547740314351167,
           0.002848739710660163,
           -0.06036247624992798,
           0.06358391208409743,
           -0.0403333006865184,
           -0.03648463071540909,
           0.06650563809580227,
           0.012053152233829568,
           0.00959018916491248,
           -0.009590189164913885,
           0.0402234161618003
          ],
          [
           0.001661452418184521,
           -0.0011818868747304238,
           -0.00434328024678165,
           -0.0016181759283922994,
           -0.003421639529228071,
           -0.003994239571860087,
           -0.002063917124061428,
           0.007295787257435697,
           -0.004378642500255841,
           -0.0025886473575362843,
           1,
           0.00919205085446257,
           0.0020136450860678513,
           0.002987445963459348,
           0.007062149974067772,
           -0.006958115868299884,
           0.00925291096823904,
           0.003893192731279657,
           -0.0007715021962073391,
           -0.0096284446236475,
           -0.00487625965114026,
           -0.000362175125616382,
           0.0034016652615499344,
           -0.003440319876580406,
           0.00367861224928098,
           -0.005330782750338803,
           0.0011688209349339897,
           0.004096874177572457,
           -0.0012142617137398623,
           0.001214261713739874,
           0.006455452470045652
          ],
          [
           0.020205130766068537,
           -0.018064673433862834,
           0.09918768951987374,
           -0.1856436194126618,
           -0.016858433662710313,
           -0.0019717983992721495,
           0.004071354625500445,
           -0.022303764341126447,
           0.0020622387388977708,
           0.030781683718051584,
           0.00919205085446257,
           1,
           0.0008083473794948714,
           -0.06423237697480552,
           0.1678961879359439,
           -0.02275707987771617,
           -0.0042406366084909285,
           -0.022301329080843927,
           0.013998603616071015,
           0.038732947369617195,
           -0.0044534210928695375,
           0.16293276278694863,
           0.28152697209852134,
           -0.4214255555841734,
           0.1937055368776306,
           -0.09328121057938148,
           -0.07967047381623606,
           0.06793152181030239,
           0.0009408750715164228,
           -0.0009408750715165577,
           -0.02043197754291397
          ],
          [
           -0.07935841969353769,
           0.00807994950247154,
           0.005782783356408719,
           0.011370876250809951,
           -0.007882583005639918,
           0.006084489062767805,
           -0.00686721248788189,
           -0.03253946147659546,
           -0.01125744475078818,
           -0.013044300683782926,
           0.0020136450860678513,
           0.0008083473794948714,
           1,
           -0.0665082742189674,
           -0.015039498228954248,
           0.0782591129149323,
           -0.02759001271863104,
           -0.012488567538995084,
           0.024382110671024457,
           -0.004537284453492717,
           0.028431362567756205,
           0.0004679590983168643,
           -0.0028874272283274083,
           0.002806478643820246,
           0.0043375580107086024,
           0.005877225948581412,
           -0.009401378965778391,
           -0.001052334801644971,
           -0.0014133081039517206,
           0.0014133081039518895,
           -0.009183480541228813
          ],
          [
           0.6426889194766269,
           -0.009219932358698616,
           0.013036097413645966,
           -0.15605956772642224,
           0.014027797327437636,
           0.024525264119702416,
           -0.028878777486853174,
           0.22409728694815276,
           0.13087576512423973,
           0.13473467557927163,
           0.002987445963459348,
           -0.06423237697480552,
           -0.0665082742189674,
           1,
           -0.35452116758395014,
           -0.8636693632846929,
           0.20059181500368192,
           0.10362962239830681,
           -0.044863068028207664,
           0.10405406861315536,
           -0.25815536468555017,
           -0.006789988908263011,
           -0.04293374572757646,
           0.051472457470682555,
           -0.11027896052868595,
           -0.032734901820458,
           0.14418345319055598,
           -0.0493814892326567,
           0.000520245519639029,
           -0.000520245519639795,
           0.07688907421805755
          ],
          [
           0.12988832005895334,
           -0.018911259687129395,
           0.03493787580036589,
           -0.0789176791114652,
           -0.01480112297212285,
           -0.022679946556565626,
           0.05325899445628933,
           0.017362765280619755,
           0.029083065703892817,
           0.015030683879351726,
           0.007062149974067772,
           0.1678961879359439,
           -0.015039498228954248,
           -0.35452116758395014,
           1,
           -0.165130056378002,
           0.00871989253135906,
           0.027177562473993933,
           -0.009086235849075109,
           0.009126091249044538,
           -0.024283951078382316,
           -0.01772256014241137,
           0.048199524238604775,
           -0.03982505762939297,
           0.06915206663044669,
           -0.022731566130560047,
           -0.0434328382452271,
           0.03204999055630643,
           0.004376911670463208,
           -0.004376911670463545,
           -0.0016497297867775636
          ],
          [
           -0.7479159478629189,
           0.019919560884649173,
           -0.03258429287983674,
           0.20715118410764485,
           -0.006817388357255497,
           -0.013642669544133916,
           0.0017503500580665157,
           -0.24573357868588314,
           -0.1537232871075978,
           -0.15021834233768994,
           -0.006958115868299884,
           -0.02275707987771617,
           0.0782591129149323,
           -0.8636693632846929,
           -0.165130056378002,
           1,
           -0.21628129371344804,
           -0.1239573412300079,
           0.052218898074275516,
           -0.1146739858036865,
           0.2853884481697606,
           0.016715704876526342,
           0.01930269955994175,
           -0.032823624674639056,
           0.07904227916657951,
           0.04678215027497677,
           -0.12866865970562022,
           0.034809434665750615,
           -0.0029082188029526846,
           0.002908218802953685,
           -0.08021188837837737
          ],
          [
           0.3337176860952144,
           -0.026388629460603517,
           0.010702448433347313,
           0.10679487664199974,
           -0.0021858917305461567,
           -0.018582530832297613,
           -0.08825010811363863,
           0.7000564231088516,
           0.3506267346608897,
           0.009885453006005566,
           0.00925291096823904,
           -0.0042406366084909285,
           -0.02759001271863104,
           0.20059181500368192,
           0.00871989253135906,
           -0.21628129371344804,
           1,
           -0.07181995783424633,
           -0.012169130956815934,
           -0.06483767987881664,
           -0.7349377708222847,
           -0.0018119982535645344,
           -0.004611294577265986,
           0.006295641119313736,
           -0.019714801568480038,
           0.010417686365251007,
           0.00787878655137896,
           -0.008712711111925816,
           0.00277312712056759,
           -0.0027731271205682566,
           -0.0153207041485992
          ],
          [
           0.20717767868415415,
           -0.014445338108288564,
           0.007471168107095546,
           0.03970953357018299,
           -0.009099203932009732,
           -0.001841020928264116,
           -0.020066384967105895,
           0.38903845511944113,
           0.3066152213724304,
           0.031955010866475515,
           0.003893192731279657,
           -0.022301329080843927,
           -0.012488567538995084,
           0.10362962239830681,
           0.027177562473993933,
           -0.1239573412300079,
           -0.07181995783424633,
           1,
           -0.007188409445888428,
           -0.0383001705006159,
           -0.4341340094594089,
           0.003930969173343247,
           -0.027627081936100334,
           0.027239821297668394,
           -0.010835046023577887,
           0.009513804915910187,
           0.0006871970784145814,
           -0.005965524260539908,
           -0.0060153001794254575,
           0.006015300179424962,
           -0.00354006863406809
          ],
          [
           -0.060352613844902335,
           0.000040719037334503234,
           -0.010833116070775252,
           0.026089220739492772,
           0.00032442416563086354,
           0.00847971609825129,
           -0.019303953554390088,
           -0.014022645144114502,
           -0.008792682202307915,
           -0.012702940120916346,
           -0.0007715021962073391,
           0.013998603616071015,
           0.024382110671024457,
           -0.044863068028207664,
           -0.009086235849075109,
           0.052218898074275516,
           -0.012169130956815934,
           -0.007188409445888428,
           1,
           -0.0064895581192910235,
           -0.0735594084601351,
           0.0033188461979838427,
           -0.00014729865340948225,
           -0.002191745318456008,
           -0.0005853586692463186,
           0.0009737953166018525,
           -0.005817271439402476,
           0.01196089288872325,
           0.001361010869021124,
           -0.0013610108690207169,
           -0.002062464005899752
          ],
          [
           0.26354818706092575,
           -0.023344164485703617,
           0.03248138186711081,
           -0.0913602631376339,
           -0.053712601368722086,
           0.04244674637744511,
           -0.05758627156962147,
           0.22702546197553766,
           0.20142400926016776,
           0.30678821065127615,
           -0.0096284446236475,
           0.038732947369617195,
           -0.004537284453492717,
           0.10405406861315536,
           0.009126091249044538,
           -0.1146739858036865,
           -0.06483767987881664,
           -0.0383001705006159,
           -0.0064895581192910235,
           1,
           -0.3919278537422634,
           -0.008453556064733924,
           -0.018535050687070932,
           0.026134535890765836,
           -0.03290821707941512,
           -0.02477796082485856,
           0.0479573840265984,
           0.011742578536324986,
           0.001503671095700079,
           -0.0015036710957013373,
           0.027375114445565986
          ],
          [
           -0.4904833538598863,
           0.0393845366850978,
           -0.026503085491105183,
           -0.06593941067417186,
           0.031296241506622774,
           -0.004606125903783959,
           0.10954588466517623,
           -0.8645754110626569,
           -0.5306003158921907,
           -0.16547740314351167,
           -0.00487625965114026,
           -0.0044534210928695375,
           0.028431362567756205,
           -0.25815536468555017,
           -0.024283951078382316,
           0.2853884481697606,
           -0.7349377708222847,
           -0.4341340094594089,
           -0.0735594084601351,
           -0.3919278537422634,
           1,
           0.003073586483698979,
           0.02641286495801168,
           -0.03088382902290282,
           0.03668004694521478,
           -0.0018051604355803423,
           -0.028409004354720234,
           0.0035116229225270984,
           0.000022535676022142867,
           -0.00002253567602082777,
           0.0015859218011340958
          ],
          [
           -0.023306286401175935,
           0.01728858087476854,
           -0.020023410175846353,
           0.00159262174913231,
           0.016282770205247255,
           0.006110428225529445,
           -0.01538618275297903,
           0.003025807650831737,
           -0.004483173898965658,
           0.002848739710660163,
           -0.000362175125616382,
           0.16293276278694863,
           0.0004679590983168643,
           -0.006789988908263011,
           -0.01772256014241137,
           0.016715704876526342,
           -0.0018119982535645344,
           0.003930969173343247,
           0.0033188461979838427,
           -0.008453556064733924,
           0.003073586483698979,
           1,
           -0.4436260696359084,
           -0.22649138528935017,
           -0.007005254845705022,
           0.01950228734463359,
           -0.00907472570377994,
           -0.015626977482244453,
           -0.0018163886326211195,
           0.0018163886326212511,
           0.012570655673056546
          ],
          [
           -0.07124291486187216,
           -0.014157538829730731,
           0.026712884297935568,
           0.017924061680522536,
           0.03691240620115067,
           -0.02249725553778482,
           0.03188567551350555,
           -0.027690723425331264,
           -0.012759627418894755,
           -0.06036247624992798,
           0.0034016652615499344,
           0.28152697209852134,
           -0.0028874272283274083,
           -0.04293374572757646,
           0.048199524238604775,
           0.01930269955994175,
           -0.004611294577265986,
           -0.027627081936100334,
           -0.00014729865340948225,
           -0.018535050687070932,
           0.02641286495801168,
           -0.4436260696359084,
           1,
           -0.7724447857174759,
           0.14130592166377293,
           -0.017516300747558923,
           -0.0961260405506129,
           0.00955488454090796,
           -0.001391013455586592,
           0.0013910134555868373,
           -0.09330993336304459
          ],
          [
           0.09394310779271364,
           0.0031353787691204785,
           -0.014842688437682189,
           -0.020608648223505076,
           -0.0516552600269737,
           0.02012024058423014,
           -0.02375061008760751,
           0.027950411411546344,
           0.017044212991417954,
           0.06358391208409743,
           -0.003440319876580406,
           -0.4214255555841734,
           0.002806478643820246,
           0.051472457470682555,
           -0.03982505762939297,
           -0.032823624674639056,
           0.006295641119313736,
           0.027239821297668394,
           -0.002191745318456008,
           0.026134535890765836,
           -0.03088382902290282,
           -0.22649138528935017,
           -0.7724447857174759,
           1,
           -0.14860872309849363,
           0.005217021743816543,
           0.11090146750932726,
           0.0006893766308795476,
           0.002798914849552467,
           -0.0027989148495527944,
           0.09250234277151975
          ],
          [
           -0.06805306932865007,
           0.0016480289329945728,
           -0.016467812229452105,
           0.010507291152108775,
           -0.012653497680541463,
           -0.0035514469734332396,
           0.008784686874991508,
           -0.017127248178352702,
           -0.016661647814070393,
           -0.0403333006865184,
           0.00367861224928098,
           0.1937055368776306,
           0.0043375580107086024,
           -0.11027896052868595,
           0.06915206663044669,
           0.07904227916657951,
           -0.019714801568480038,
           -0.010835046023577887,
           -0.0005853586692463186,
           -0.03290821707941512,
           0.03668004694521478,
           -0.007005254845705022,
           0.14130592166377293,
           -0.14860872309849363,
           1,
           -0.4339138409568687,
           -0.272731275216359,
           -0.08744137136911487,
           0.0018987064172403501,
           -0.0018987064172402979,
           -0.1971859733337815
          ],
          [
           -0.04687727249686895,
           0.013184269409636434,
           -0.06774804022450949,
           0.1018971939302174,
           0.07075106142215781,
           0.002100055192087048,
           -0.02062253681581543,
           0.022129976743563103,
           -0.0056702613637163515,
           -0.03648463071540909,
           -0.005330782750338803,
           -0.09328121057938148,
           0.005877225948581412,
           -0.032734901820458,
           -0.022731566130560047,
           0.04678215027497677,
           0.010417686365251007,
           0.009513804915910187,
           0.0009737953166018525,
           -0.02477796082485856,
           -0.0018051604355803423,
           0.01950228734463359,
           -0.017516300747558923,
           0.005217021743816543,
           -0.4339138409568687,
           1,
           -0.6629598944890766,
           -0.2125539958365972,
           -0.0063208892320954875,
           0.006320889232095662,
           0.043282072250651685
          ],
          [
           0.10810092923229601,
           -0.015220718951187324,
           0.08266386188859864,
           -0.09931184257432386,
           -0.045879479252471066,
           0.0007493608779939935,
           0.013168570798406918,
           -0.007787705729212986,
           0.02292575495677543,
           0.06650563809580227,
           0.0011688209349339897,
           -0.07967047381623606,
           -0.009401378965778391,
           0.14418345319055598,
           -0.0434328382452271,
           -0.12866865970562022,
           0.00787878655137896,
           0.0006871970784145814,
           -0.005817271439402476,
           0.0479573840265984,
           -0.028409004354720234,
           -0.00907472570377994,
           -0.0961260405506129,
           0.11090146750932726,
           -0.272731275216359,
           -0.6629598944890766,
           1,
           -0.1335982327943527,
           0.003268856825871306,
           -0.003268856825871465,
           0.09728768657653804
          ],
          [
           -0.007199118201651419,
           -0.0012358737352559973,
           0.010580614289883437,
           -0.04759514446021786,
           -0.04999243439613911,
           -0.0005940393116166647,
           0.005834780832768724,
           -0.0069151408284804546,
           -0.00825734032863405,
           0.012053152233829568,
           0.004096874177572457,
           0.06793152181030239,
           -0.001052334801644971,
           -0.0493814892326567,
           0.03204999055630643,
           0.034809434665750615,
           -0.008712711111925816,
           -0.005965524260539908,
           0.01196089288872325,
           0.011742578536324986,
           0.0035116229225270984,
           -0.015626977482244453,
           0.00955488454090796,
           0.0006893766308795476,
           -0.08744137136911487,
           -0.2125539958365972,
           -0.1335982327943527,
           1,
           0.004984180199289061,
           -0.004984180199289142,
           0.023829960725363926
          ],
          [
           0.00021561858991605355,
           -0.006196708557518234,
           -0.00464241329005357,
           -0.0028168890003330478,
           -0.0011040721643646176,
           0.010641670266640198,
           -0.0012295874690141336,
           0.0019696496367223844,
           -0.0037211965184612665,
           0.00959018916491248,
           -0.0012142617137398623,
           0.0009408750715164228,
           -0.0014133081039517206,
           0.000520245519639029,
           0.004376911670463208,
           -0.0029082188029526846,
           0.00277312712056759,
           -0.0060153001794254575,
           0.001361010869021124,
           0.001503671095700079,
           0.000022535676022142867,
           -0.0018163886326211195,
           -0.001391013455586592,
           0.002798914849552467,
           0.0018987064172403501,
           -0.0063208892320954875,
           0.003268856825871306,
           0.004984180199289061,
           1,
           -1,
           -0.0015591545767547346
          ],
          [
           -0.00021561858991726832,
           0.006196708557518383,
           0.00464241329005337,
           0.002816889000333783,
           0.0011040721643646324,
           -0.010641670266640289,
           0.0012295874690144658,
           -0.0019696496367235332,
           0.0037211965184605258,
           -0.009590189164913885,
           0.001214261713739874,
           -0.0009408750715165577,
           0.0014133081039518895,
           -0.000520245519639795,
           -0.004376911670463545,
           0.002908218802953685,
           -0.0027731271205682566,
           0.006015300179424962,
           -0.0013610108690207169,
           -0.0015036710957013373,
           -0.00002253567602082777,
           0.0018163886326212511,
           0.0013910134555868373,
           -0.0027989148495527944,
           -0.0018987064172402979,
           0.006320889232095662,
           -0.003268856825871465,
           -0.004984180199289142,
           -1,
           1,
           0.0015591545767547163
          ],
          [
           0.0632765109170305,
           -0.006815534533453715,
           0.01729286492972294,
           -0.12537917414676394,
           -0.03293812817646665,
           0.004213453832692204,
           0.0062050382444140606,
           -0.024493877880532776,
           -0.0008408027471247879,
           0.0402234161618003,
           0.006455452470045652,
           -0.02043197754291397,
           -0.009183480541228813,
           0.07688907421805755,
           -0.0016497297867775636,
           -0.08021188837837737,
           -0.0153207041485992,
           -0.00354006863406809,
           -0.002062464005899752,
           0.027375114445565986,
           0.0015859218011340958,
           0.012570655673056546,
           -0.09330993336304459,
           0.09250234277151975,
           -0.1971859733337815,
           0.043282072250651685,
           0.09728768657653804,
           0.023829960725363926,
           -0.0015591545767547346,
           0.0015591545767547163,
           1
          ]
         ]
        }
       ],
       "layout": {
        "coloraxis": {
         "cmax": 1,
         "cmin": -1,
         "colorbar": {
          "len": 0.75,
          "lenmode": "fraction",
          "tickvals": [
           -1,
           -0.75,
           -0.5,
           -0.25,
           0,
           0.25,
           0.5,
           0.75,
           1
          ],
          "title": {
           "text": "Correlation"
          }
         },
         "colorscale": [
          [
           0,
           "black"
          ],
          [
           0.25,
           "purple"
          ],
          [
           0.5,
           "orange"
          ],
          [
           0.75,
           "red"
          ],
          [
           1,
           "yellow"
          ]
         ]
        },
        "height": 800,
        "margin": {
         "t": 60
        },
        "template": {
         "data": {
          "bar": [
           {
            "error_x": {
             "color": "#2a3f5f"
            },
            "error_y": {
             "color": "#2a3f5f"
            },
            "marker": {
             "line": {
              "color": "#E5ECF6",
              "width": 0.5
             },
             "pattern": {
              "fillmode": "overlay",
              "size": 10,
              "solidity": 0.2
             }
            },
            "type": "bar"
           }
          ],
          "barpolar": [
           {
            "marker": {
             "line": {
              "color": "#E5ECF6",
              "width": 0.5
             },
             "pattern": {
              "fillmode": "overlay",
              "size": 10,
              "solidity": 0.2
             }
            },
            "type": "barpolar"
           }
          ],
          "carpet": [
           {
            "aaxis": {
             "endlinecolor": "#2a3f5f",
             "gridcolor": "white",
             "linecolor": "white",
             "minorgridcolor": "white",
             "startlinecolor": "#2a3f5f"
            },
            "baxis": {
             "endlinecolor": "#2a3f5f",
             "gridcolor": "white",
             "linecolor": "white",
             "minorgridcolor": "white",
             "startlinecolor": "#2a3f5f"
            },
            "type": "carpet"
           }
          ],
          "choropleth": [
           {
            "colorbar": {
             "outlinewidth": 0,
             "ticks": ""
            },
            "type": "choropleth"
           }
          ],
          "contour": [
           {
            "colorbar": {
             "outlinewidth": 0,
             "ticks": ""
            },
            "colorscale": [
             [
              0,
              "#0d0887"
             ],
             [
              0.1111111111111111,
              "#46039f"
             ],
             [
              0.2222222222222222,
              "#7201a8"
             ],
             [
              0.3333333333333333,
              "#9c179e"
             ],
             [
              0.4444444444444444,
              "#bd3786"
             ],
             [
              0.5555555555555556,
              "#d8576b"
             ],
             [
              0.6666666666666666,
              "#ed7953"
             ],
             [
              0.7777777777777778,
              "#fb9f3a"
             ],
             [
              0.8888888888888888,
              "#fdca26"
             ],
             [
              1,
              "#f0f921"
             ]
            ],
            "type": "contour"
           }
          ],
          "contourcarpet": [
           {
            "colorbar": {
             "outlinewidth": 0,
             "ticks": ""
            },
            "type": "contourcarpet"
           }
          ],
          "heatmap": [
           {
            "colorbar": {
             "outlinewidth": 0,
             "ticks": ""
            },
            "colorscale": [
             [
              0,
              "#0d0887"
             ],
             [
              0.1111111111111111,
              "#46039f"
             ],
             [
              0.2222222222222222,
              "#7201a8"
             ],
             [
              0.3333333333333333,
              "#9c179e"
             ],
             [
              0.4444444444444444,
              "#bd3786"
             ],
             [
              0.5555555555555556,
              "#d8576b"
             ],
             [
              0.6666666666666666,
              "#ed7953"
             ],
             [
              0.7777777777777778,
              "#fb9f3a"
             ],
             [
              0.8888888888888888,
              "#fdca26"
             ],
             [
              1,
              "#f0f921"
             ]
            ],
            "type": "heatmap"
           }
          ],
          "heatmapgl": [
           {
            "colorbar": {
             "outlinewidth": 0,
             "ticks": ""
            },
            "colorscale": [
             [
              0,
              "#0d0887"
             ],
             [
              0.1111111111111111,
              "#46039f"
             ],
             [
              0.2222222222222222,
              "#7201a8"
             ],
             [
              0.3333333333333333,
              "#9c179e"
             ],
             [
              0.4444444444444444,
              "#bd3786"
             ],
             [
              0.5555555555555556,
              "#d8576b"
             ],
             [
              0.6666666666666666,
              "#ed7953"
             ],
             [
              0.7777777777777778,
              "#fb9f3a"
             ],
             [
              0.8888888888888888,
              "#fdca26"
             ],
             [
              1,
              "#f0f921"
             ]
            ],
            "type": "heatmapgl"
           }
          ],
          "histogram": [
           {
            "marker": {
             "pattern": {
              "fillmode": "overlay",
              "size": 10,
              "solidity": 0.2
             }
            },
            "type": "histogram"
           }
          ],
          "histogram2d": [
           {
            "colorbar": {
             "outlinewidth": 0,
             "ticks": ""
            },
            "colorscale": [
             [
              0,
              "#0d0887"
             ],
             [
              0.1111111111111111,
              "#46039f"
             ],
             [
              0.2222222222222222,
              "#7201a8"
             ],
             [
              0.3333333333333333,
              "#9c179e"
             ],
             [
              0.4444444444444444,
              "#bd3786"
             ],
             [
              0.5555555555555556,
              "#d8576b"
             ],
             [
              0.6666666666666666,
              "#ed7953"
             ],
             [
              0.7777777777777778,
              "#fb9f3a"
             ],
             [
              0.8888888888888888,
              "#fdca26"
             ],
             [
              1,
              "#f0f921"
             ]
            ],
            "type": "histogram2d"
           }
          ],
          "histogram2dcontour": [
           {
            "colorbar": {
             "outlinewidth": 0,
             "ticks": ""
            },
            "colorscale": [
             [
              0,
              "#0d0887"
             ],
             [
              0.1111111111111111,
              "#46039f"
             ],
             [
              0.2222222222222222,
              "#7201a8"
             ],
             [
              0.3333333333333333,
              "#9c179e"
             ],
             [
              0.4444444444444444,
              "#bd3786"
             ],
             [
              0.5555555555555556,
              "#d8576b"
             ],
             [
              0.6666666666666666,
              "#ed7953"
             ],
             [
              0.7777777777777778,
              "#fb9f3a"
             ],
             [
              0.8888888888888888,
              "#fdca26"
             ],
             [
              1,
              "#f0f921"
             ]
            ],
            "type": "histogram2dcontour"
           }
          ],
          "mesh3d": [
           {
            "colorbar": {
             "outlinewidth": 0,
             "ticks": ""
            },
            "type": "mesh3d"
           }
          ],
          "parcoords": [
           {
            "line": {
             "colorbar": {
              "outlinewidth": 0,
              "ticks": ""
             }
            },
            "type": "parcoords"
           }
          ],
          "pie": [
           {
            "automargin": true,
            "type": "pie"
           }
          ],
          "scatter": [
           {
            "fillpattern": {
             "fillmode": "overlay",
             "size": 10,
             "solidity": 0.2
            },
            "type": "scatter"
           }
          ],
          "scatter3d": [
           {
            "line": {
             "colorbar": {
              "outlinewidth": 0,
              "ticks": ""
             }
            },
            "marker": {
             "colorbar": {
              "outlinewidth": 0,
              "ticks": ""
             }
            },
            "type": "scatter3d"
           }
          ],
          "scattercarpet": [
           {
            "marker": {
             "colorbar": {
              "outlinewidth": 0,
              "ticks": ""
             }
            },
            "type": "scattercarpet"
           }
          ],
          "scattergeo": [
           {
            "marker": {
             "colorbar": {
              "outlinewidth": 0,
              "ticks": ""
             }
            },
            "type": "scattergeo"
           }
          ],
          "scattergl": [
           {
            "marker": {
             "colorbar": {
              "outlinewidth": 0,
              "ticks": ""
             }
            },
            "type": "scattergl"
           }
          ],
          "scattermapbox": [
           {
            "marker": {
             "colorbar": {
              "outlinewidth": 0,
              "ticks": ""
             }
            },
            "type": "scattermapbox"
           }
          ],
          "scatterpolar": [
           {
            "marker": {
             "colorbar": {
              "outlinewidth": 0,
              "ticks": ""
             }
            },
            "type": "scatterpolar"
           }
          ],
          "scatterpolargl": [
           {
            "marker": {
             "colorbar": {
              "outlinewidth": 0,
              "ticks": ""
             }
            },
            "type": "scatterpolargl"
           }
          ],
          "scatterternary": [
           {
            "marker": {
             "colorbar": {
              "outlinewidth": 0,
              "ticks": ""
             }
            },
            "type": "scatterternary"
           }
          ],
          "surface": [
           {
            "colorbar": {
             "outlinewidth": 0,
             "ticks": ""
            },
            "colorscale": [
             [
              0,
              "#0d0887"
             ],
             [
              0.1111111111111111,
              "#46039f"
             ],
             [
              0.2222222222222222,
              "#7201a8"
             ],
             [
              0.3333333333333333,
              "#9c179e"
             ],
             [
              0.4444444444444444,
              "#bd3786"
             ],
             [
              0.5555555555555556,
              "#d8576b"
             ],
             [
              0.6666666666666666,
              "#ed7953"
             ],
             [
              0.7777777777777778,
              "#fb9f3a"
             ],
             [
              0.8888888888888888,
              "#fdca26"
             ],
             [
              1,
              "#f0f921"
             ]
            ],
            "type": "surface"
           }
          ],
          "table": [
           {
            "cells": {
             "fill": {
              "color": "#EBF0F8"
             },
             "line": {
              "color": "white"
             }
            },
            "header": {
             "fill": {
              "color": "#C8D4E3"
             },
             "line": {
              "color": "white"
             }
            },
            "type": "table"
           }
          ]
         },
         "layout": {
          "annotationdefaults": {
           "arrowcolor": "#2a3f5f",
           "arrowhead": 0,
           "arrowwidth": 1
          },
          "autotypenumbers": "strict",
          "coloraxis": {
           "colorbar": {
            "outlinewidth": 0,
            "ticks": ""
           }
          },
          "colorscale": {
           "diverging": [
            [
             0,
             "#8e0152"
            ],
            [
             0.1,
             "#c51b7d"
            ],
            [
             0.2,
             "#de77ae"
            ],
            [
             0.3,
             "#f1b6da"
            ],
            [
             0.4,
             "#fde0ef"
            ],
            [
             0.5,
             "#f7f7f7"
            ],
            [
             0.6,
             "#e6f5d0"
            ],
            [
             0.7,
             "#b8e186"
            ],
            [
             0.8,
             "#7fbc41"
            ],
            [
             0.9,
             "#4d9221"
            ],
            [
             1,
             "#276419"
            ]
           ],
           "sequential": [
            [
             0,
             "#0d0887"
            ],
            [
             0.1111111111111111,
             "#46039f"
            ],
            [
             0.2222222222222222,
             "#7201a8"
            ],
            [
             0.3333333333333333,
             "#9c179e"
            ],
            [
             0.4444444444444444,
             "#bd3786"
            ],
            [
             0.5555555555555556,
             "#d8576b"
            ],
            [
             0.6666666666666666,
             "#ed7953"
            ],
            [
             0.7777777777777778,
             "#fb9f3a"
            ],
            [
             0.8888888888888888,
             "#fdca26"
            ],
            [
             1,
             "#f0f921"
            ]
           ],
           "sequentialminus": [
            [
             0,
             "#0d0887"
            ],
            [
             0.1111111111111111,
             "#46039f"
            ],
            [
             0.2222222222222222,
             "#7201a8"
            ],
            [
             0.3333333333333333,
             "#9c179e"
            ],
            [
             0.4444444444444444,
             "#bd3786"
            ],
            [
             0.5555555555555556,
             "#d8576b"
            ],
            [
             0.6666666666666666,
             "#ed7953"
            ],
            [
             0.7777777777777778,
             "#fb9f3a"
            ],
            [
             0.8888888888888888,
             "#fdca26"
            ],
            [
             1,
             "#f0f921"
            ]
           ]
          },
          "colorway": [
           "#636efa",
           "#EF553B",
           "#00cc96",
           "#ab63fa",
           "#FFA15A",
           "#19d3f3",
           "#FF6692",
           "#B6E880",
           "#FF97FF",
           "#FECB52"
          ],
          "font": {
           "color": "#2a3f5f"
          },
          "geo": {
           "bgcolor": "white",
           "lakecolor": "white",
           "landcolor": "#E5ECF6",
           "showlakes": true,
           "showland": true,
           "subunitcolor": "white"
          },
          "hoverlabel": {
           "align": "left"
          },
          "hovermode": "closest",
          "mapbox": {
           "style": "light"
          },
          "paper_bgcolor": "white",
          "plot_bgcolor": "#E5ECF6",
          "polar": {
           "angularaxis": {
            "gridcolor": "white",
            "linecolor": "white",
            "ticks": ""
           },
           "bgcolor": "#E5ECF6",
           "radialaxis": {
            "gridcolor": "white",
            "linecolor": "white",
            "ticks": ""
           }
          },
          "scene": {
           "xaxis": {
            "backgroundcolor": "#E5ECF6",
            "gridcolor": "white",
            "gridwidth": 2,
            "linecolor": "white",
            "showbackground": true,
            "ticks": "",
            "zerolinecolor": "white"
           },
           "yaxis": {
            "backgroundcolor": "#E5ECF6",
            "gridcolor": "white",
            "gridwidth": 2,
            "linecolor": "white",
            "showbackground": true,
            "ticks": "",
            "zerolinecolor": "white"
           },
           "zaxis": {
            "backgroundcolor": "#E5ECF6",
            "gridcolor": "white",
            "gridwidth": 2,
            "linecolor": "white",
            "showbackground": true,
            "ticks": "",
            "zerolinecolor": "white"
           }
          },
          "shapedefaults": {
           "line": {
            "color": "#2a3f5f"
           }
          },
          "ternary": {
           "aaxis": {
            "gridcolor": "white",
            "linecolor": "white",
            "ticks": ""
           },
           "baxis": {
            "gridcolor": "white",
            "linecolor": "white",
            "ticks": ""
           },
           "bgcolor": "#E5ECF6",
           "caxis": {
            "gridcolor": "white",
            "linecolor": "white",
            "ticks": ""
           }
          },
          "title": {
           "x": 0.05
          },
          "xaxis": {
           "automargin": true,
           "gridcolor": "white",
           "linecolor": "white",
           "ticks": "",
           "title": {
            "standoff": 15
           },
           "zerolinecolor": "white",
           "zerolinewidth": 2
          },
          "yaxis": {
           "automargin": true,
           "gridcolor": "white",
           "linecolor": "white",
           "ticks": "",
           "title": {
            "standoff": 15
           },
           "zerolinecolor": "white",
           "zerolinewidth": 2
          }
         }
        },
        "title": {
         "font": {
          "color": "green",
          "size": 30
         },
         "text": "Heatmap to find Correlation between the columns",
         "x": 0.5
        },
        "width": 3000,
        "xaxis": {
         "anchor": "y",
         "domain": [
          0,
          1
         ],
         "tickangle": 45,
         "tickfont": {
          "color": "green"
         }
        },
        "yaxis": {
         "anchor": "x",
         "autorange": "reversed",
         "domain": [
          0,
          1
         ],
         "tickfont": {
          "color": "green"
         }
        }
       }
      }
     },
     "metadata": {},
     "output_type": "display_data"
    }
   ],
   "source": [
    "if 'contact' in df_encoded.columns:\n",
    "    df_encoded['contact'] = label_encoder.fit_transform(df_encoded['contact'])\n",
    "\n",
    "# Calculate correlation matrix for numerical and encoded variables\n",
    "corr = df_encoded.corr()\n",
    "\n",
    "# Custom color scale similar to the one in the screenshot\n",
    "custom_colorscale = [\n",
    "    [0.0, \"black\"],   # Most negative correlations (close to -1)\n",
    "    [0.25, \"purple\"],  # Less negative correlations\n",
    "    [0.5, \"orange\"],  # Neutral correlations (close to 0)\n",
    "    [0.75, \"red\"],    # Less positive correlations\n",
    "    [1.0, \"yellow\"]   # Most positive correlations (close to 1)\n",
    "]\n",
    "\n",
    "fig = px.imshow(\n",
    "    corr, \n",
    "    text_auto=True, \n",
    "    aspect=\"auto\", \n",
    "    color_continuous_scale=custom_colorscale, \n",
    "    zmin=-1, \n",
    "    zmax=1,\n",
    "    width=3000,  # Adjust width for better visibility\n",
    "    height=800   # Adjust height for better visibility\n",
    ")\n",
    "\n",
    "# Update layout to match the style in your screenshot\n",
    "fig.update_layout(\n",
    "    title=dict(text='Heatmap to find Correlation between the columns', x=0.5, font=dict(size=30, color='green')),\n",
    "    xaxis=dict(tickangle=45, tickfont=dict(color='green')),  # Rotate x-axis labels and change color to green\n",
    "    yaxis=dict(tickfont=dict(color='green')),  # Change y-axis label color to green\n",
    "    coloraxis_colorbar=dict(\n",
    "        title=\"Correlation\", \n",
    "        tickvals=np.linspace(-1, 1, 9),  # Ensure a good distribution of color bar ticks\n",
    "        lenmode='fraction', \n",
    "        len=0.75  # Adjust the length of the color bar\n",
    "    ),\n",
    ")\n",
    "\n",
    "# Improve visibility of annotations by changing font size\n",
    "fig.update_traces(\n",
    "    textfont=dict(size=9, color=\"black\")  # Increase the font size of annotations and set color to black\n",
    ")\n",
    "\n",
    "fig.show()"
   ]
  },
  {
   "cell_type": "code",
   "execution_count": 32,
   "metadata": {},
   "outputs": [
    {
     "name": "stdout",
     "output_type": "stream",
     "text": [
      "Term Deposit           1.000000\n",
      "duration               0.393618\n",
      "poutcome_success       0.306788\n",
      "Customer_number        0.296287\n",
      "contact_cellular       0.134735\n",
      "last_contact_day       0.103015\n",
      "previous               0.093236\n",
      "education_tertiary     0.066506\n",
      "marital_single         0.063584\n",
      "balance                0.049748\n",
      "job_encoded            0.040223\n",
      "poutcome_other         0.031955\n",
      "age                    0.030782\n",
      "contact_telephone      0.015031\n",
      "education_unknown      0.012053\n",
      "poutcome_failure       0.009885\n",
      "Gender_F               0.009590\n",
      "marital_divorced       0.002849\n",
      "Count_Txn             -0.002589\n",
      "Gender_M              -0.009590\n",
      "poutcome_pending      -0.012703\n",
      "Annual Income         -0.013044\n",
      "Insurance             -0.022419\n",
      "education_secondary   -0.036485\n",
      "education_primary     -0.040333\n",
      "marital_married       -0.060362\n",
      "loan                  -0.068185\n",
      "campaign              -0.073521\n",
      "housing               -0.139173\n",
      "contact_unknown       -0.150218\n",
      "poutcome_unknown      -0.165477\n",
      "Name: Term Deposit, dtype: float64\n"
     ]
    }
   ],
   "source": [
    "# Extracting correlations with \"Term Deposit\"\n",
    "term_deposit_corr = corr['Term Deposit'].sort_values(ascending=False)\n",
    "print(term_deposit_corr)\n"
   ]
  },
  {
   "cell_type": "code",
   "execution_count": 33,
   "metadata": {},
   "outputs": [
    {
     "name": "stdout",
     "output_type": "stream",
     "text": [
      "Chi-Square Test results:\n",
      "                        Chi2 Stat        P-Value\n",
      "poutcome_success     4249.905233   0.000000e+00\n",
      "poutcome_unknown     1236.673355  6.535144e-271\n",
      "contact_unknown      1019.178018  1.218135e-223\n",
      "housing               874.822449  2.918798e-192\n",
      "contact_cellular      819.856392  2.600098e-180\n",
      "loan                  209.616980   1.665061e-47\n",
      "education_tertiary    199.514380   2.665666e-45\n",
      "marital_single        182.345180   1.490700e-41\n",
      "marital_married       164.348614   1.269420e-37\n",
      "education_primary      73.198505   1.172445e-17\n",
      "education_secondary    59.954740   9.706395e-15\n",
      "poutcome_other         45.664168   1.403671e-11\n",
      "contact_telephone      10.023234   1.545778e-03\n",
      "education_unknown       6.380582   1.153756e-02\n",
      "poutcome_pending        6.205653   1.273430e-02\n",
      "poutcome_failure        4.319738   3.767272e-02\n",
      "Gender_F                4.097426   4.294856e-02\n",
      "Gender_M                4.097426   4.294856e-02\n",
      "marital_divorced        0.339655   5.600285e-01\n"
     ]
    }
   ],
   "source": [
    "# Define a function to perform Chi-Square Test\n",
    "def chi_square_test(df_encoded, feature, target):\n",
    "    contingency_table = pd.crosstab(df_encoded[feature], df_encoded[target])\n",
    "    chi2_stat, p_val, dof, expected = chi2_contingency(contingency_table)\n",
    "    return chi2_stat, p_val\n",
    "\n",
    "# List of categorical features\n",
    "categorical_features = ['housing', 'loan', 'contact_cellular', 'contact_telephone', 'contact_unknown', \n",
    "                        'poutcome_failure', 'poutcome_other', 'poutcome_pending', 'poutcome_success', 'poutcome_unknown',\n",
    "                        'marital_divorced', 'marital_married', 'marital_single', \n",
    "                        'education_primary', 'education_secondary', 'education_tertiary', 'education_unknown', \n",
    "                        'Gender_F', 'Gender_M']\n",
    "\n",
    "# Perform Chi-Square Test\n",
    "chi_square_results = {}\n",
    "for feature in categorical_features:\n",
    "    chi2_stat, p_val = chi_square_test(df_encoded, feature, 'Term Deposit')\n",
    "    chi_square_results[feature] = {'Chi2 Stat': chi2_stat, 'P-Value': p_val}\n",
    "\n",
    "# Convert results to DataFrame\n",
    "chi_square_df = pd.DataFrame(chi_square_results).T\n",
    "chi_square_df = chi_square_df.sort_values(by='P-Value')\n",
    "\n",
    "print(\"Chi-Square Test results:\\n\", chi_square_df)"
   ]
  },
  {
   "cell_type": "code",
   "execution_count": 34,
   "metadata": {},
   "outputs": [
    {
     "name": "stdout",
     "output_type": "stream",
     "text": [
      "Chi-Square and Cramér's V results:\n",
      "                        Chi2 Stat        P-Value  Cramér's V\n",
      "poutcome_success     4249.905233   0.000000e+00    0.306597\n",
      "poutcome_unknown     1236.673355  6.535144e-271    0.165389\n",
      "contact_unknown      1019.178018  1.218135e-223    0.150142\n",
      "housing               874.822449  2.918798e-192    0.139103\n",
      "contact_cellular      819.856392  2.600098e-180    0.134663\n",
      "loan                  209.616980   1.665061e-47    0.068091\n",
      "education_tertiary    199.514380   2.665666e-45    0.066430\n",
      "marital_single        182.345180   1.490700e-41    0.063508\n",
      "marital_married       164.348614   1.269420e-37    0.060292\n",
      "education_primary      73.198505   1.172445e-17    0.040237\n",
      "education_secondary    59.954740   9.706395e-15    0.036416\n",
      "poutcome_other         45.664168   1.403671e-11    0.031781\n",
      "contact_telephone      10.023234   1.545778e-03    0.014890\n",
      "education_unknown       6.380582   1.153756e-02    0.011880\n",
      "poutcome_pending        6.205653   1.273430e-02    0.011716\n",
      "poutcome_failure        4.319738   3.767272e-02    0.009775\n",
      "Gender_F                4.097426   4.294856e-02    0.009520\n",
      "Gender_M                4.097426   4.294856e-02    0.009520\n",
      "marital_divorced        0.339655   5.600285e-01    0.002741\n"
     ]
    }
   ],
   "source": [
    "# Function to calculate Cramér's V\n",
    "def cramers_v(chi2_stat, n, k):\n",
    "    return np.sqrt(chi2_stat / (n * (min(k - 1, 1))))\n",
    "\n",
    "# Analyze Chi-Square with Cramér's V\n",
    "n = df_encoded.shape[0]  # Number of observations\n",
    "\n",
    "cramers_v_results = {}\n",
    "for feature in categorical_features:\n",
    "    chi2_stat, p_val = chi_square_test(df_encoded, feature, 'Term Deposit')\n",
    "    k = len(df_encoded[feature].unique())\n",
    "    cramers_v_value = cramers_v(chi2_stat, n, k)\n",
    "    cramers_v_results[feature] = {'Chi2 Stat': chi2_stat, 'P-Value': p_val, 'Cramér\\'s V': cramers_v_value}\n",
    "\n",
    "# Convert to DataFrame for easier viewing\n",
    "cramers_v_df = pd.DataFrame(cramers_v_results).T\n",
    "cramers_v_df = cramers_v_df.sort_values(by='Cramér\\'s V', ascending=False)\n",
    "\n",
    "print(\"Chi-Square and Cramér's V results:\\n\", cramers_v_df)\n"
   ]
  },
  {
   "cell_type": "markdown",
   "metadata": {},
   "source": [
    "### 2. Predictive Model Building: Train a prediction model of your choice to estimate the probability that a customer will opt for a term deposit. Adhere to       an 80:20 train:test split. Report and present the model's performance metrics on both the train and test datasets."
   ]
  },
  {
   "cell_type": "code",
   "execution_count": 35,
   "metadata": {},
   "outputs": [
    {
     "name": "stdout",
     "output_type": "stream",
     "text": [
      "36168\n",
      "9043\n"
     ]
    }
   ],
   "source": [
    "y = df_encoded['Term Deposit']\n",
    "\n",
    "# Rest all columns to be considered as 'x'\n",
    "x = df_encoded[['duration','poutcome_success','contact_cellular','last_contact_day','previous',\n",
    "                'education_tertiary','marital_single','balance','job_encoded','poutcome_other','age']]\n",
    "\n",
    "# Splitting our dataset into Training & Testing Data with 80:20 Ratio\n",
    "x_train, x_test, y_train, y_test = train_test_split(x, y, test_size = 0.20, random_state = 42)\n",
    "print(len(x_train))\n",
    "print(len(x_test))"
   ]
  },
  {
   "cell_type": "code",
   "execution_count": 36,
   "metadata": {},
   "outputs": [
    {
     "data": {
      "text/html": [
       "<style>#sk-container-id-1 {color: black;background-color: white;}#sk-container-id-1 pre{padding: 0;}#sk-container-id-1 div.sk-toggleable {background-color: white;}#sk-container-id-1 label.sk-toggleable__label {cursor: pointer;display: block;width: 100%;margin-bottom: 0;padding: 0.3em;box-sizing: border-box;text-align: center;}#sk-container-id-1 label.sk-toggleable__label-arrow:before {content: \"▸\";float: left;margin-right: 0.25em;color: #696969;}#sk-container-id-1 label.sk-toggleable__label-arrow:hover:before {color: black;}#sk-container-id-1 div.sk-estimator:hover label.sk-toggleable__label-arrow:before {color: black;}#sk-container-id-1 div.sk-toggleable__content {max-height: 0;max-width: 0;overflow: hidden;text-align: left;background-color: #f0f8ff;}#sk-container-id-1 div.sk-toggleable__content pre {margin: 0.2em;color: black;border-radius: 0.25em;background-color: #f0f8ff;}#sk-container-id-1 input.sk-toggleable__control:checked~div.sk-toggleable__content {max-height: 200px;max-width: 100%;overflow: auto;}#sk-container-id-1 input.sk-toggleable__control:checked~label.sk-toggleable__label-arrow:before {content: \"▾\";}#sk-container-id-1 div.sk-estimator input.sk-toggleable__control:checked~label.sk-toggleable__label {background-color: #d4ebff;}#sk-container-id-1 div.sk-label input.sk-toggleable__control:checked~label.sk-toggleable__label {background-color: #d4ebff;}#sk-container-id-1 input.sk-hidden--visually {border: 0;clip: rect(1px 1px 1px 1px);clip: rect(1px, 1px, 1px, 1px);height: 1px;margin: -1px;overflow: hidden;padding: 0;position: absolute;width: 1px;}#sk-container-id-1 div.sk-estimator {font-family: monospace;background-color: #f0f8ff;border: 1px dotted black;border-radius: 0.25em;box-sizing: border-box;margin-bottom: 0.5em;}#sk-container-id-1 div.sk-estimator:hover {background-color: #d4ebff;}#sk-container-id-1 div.sk-parallel-item::after {content: \"\";width: 100%;border-bottom: 1px solid gray;flex-grow: 1;}#sk-container-id-1 div.sk-label:hover label.sk-toggleable__label {background-color: #d4ebff;}#sk-container-id-1 div.sk-serial::before {content: \"\";position: absolute;border-left: 1px solid gray;box-sizing: border-box;top: 0;bottom: 0;left: 50%;z-index: 0;}#sk-container-id-1 div.sk-serial {display: flex;flex-direction: column;align-items: center;background-color: white;padding-right: 0.2em;padding-left: 0.2em;position: relative;}#sk-container-id-1 div.sk-item {position: relative;z-index: 1;}#sk-container-id-1 div.sk-parallel {display: flex;align-items: stretch;justify-content: center;background-color: white;position: relative;}#sk-container-id-1 div.sk-item::before, #sk-container-id-1 div.sk-parallel-item::before {content: \"\";position: absolute;border-left: 1px solid gray;box-sizing: border-box;top: 0;bottom: 0;left: 50%;z-index: -1;}#sk-container-id-1 div.sk-parallel-item {display: flex;flex-direction: column;z-index: 1;position: relative;background-color: white;}#sk-container-id-1 div.sk-parallel-item:first-child::after {align-self: flex-end;width: 50%;}#sk-container-id-1 div.sk-parallel-item:last-child::after {align-self: flex-start;width: 50%;}#sk-container-id-1 div.sk-parallel-item:only-child::after {width: 0;}#sk-container-id-1 div.sk-dashed-wrapped {border: 1px dashed gray;margin: 0 0.4em 0.5em 0.4em;box-sizing: border-box;padding-bottom: 0.4em;background-color: white;}#sk-container-id-1 div.sk-label label {font-family: monospace;font-weight: bold;display: inline-block;line-height: 1.2em;}#sk-container-id-1 div.sk-label-container {text-align: center;}#sk-container-id-1 div.sk-container {/* jupyter's `normalize.less` sets `[hidden] { display: none; }` but bootstrap.min.css set `[hidden] { display: none !important; }` so we also need the `!important` here to be able to override the default hidden behavior on the sphinx rendered scikit-learn.org. See: https://github.com/scikit-learn/scikit-learn/issues/21755 */display: inline-block !important;position: relative;}#sk-container-id-1 div.sk-text-repr-fallback {display: none;}</style><div id=\"sk-container-id-1\" class=\"sk-top-container\"><div class=\"sk-text-repr-fallback\"><pre>RandomForestClassifier(random_state=42)</pre><b>In a Jupyter environment, please rerun this cell to show the HTML representation or trust the notebook. <br />On GitHub, the HTML representation is unable to render, please try loading this page with nbviewer.org.</b></div><div class=\"sk-container\" hidden><div class=\"sk-item\"><div class=\"sk-estimator sk-toggleable\"><input class=\"sk-toggleable__control sk-hidden--visually\" id=\"sk-estimator-id-1\" type=\"checkbox\" checked><label for=\"sk-estimator-id-1\" class=\"sk-toggleable__label sk-toggleable__label-arrow\">RandomForestClassifier</label><div class=\"sk-toggleable__content\"><pre>RandomForestClassifier(random_state=42)</pre></div></div></div></div></div>"
      ],
      "text/plain": [
       "RandomForestClassifier(random_state=42)"
      ]
     },
     "execution_count": 36,
     "metadata": {},
     "output_type": "execute_result"
    }
   ],
   "source": [
    "model = RandomForestClassifier(random_state=42)\n",
    "model.fit(x_train, y_train)"
   ]
  },
  {
   "cell_type": "code",
   "execution_count": 37,
   "metadata": {},
   "outputs": [
    {
     "name": "stdout",
     "output_type": "stream",
     "text": [
      "Train Accuracy: 0.9999723512497235\n",
      "Test Accuracy: 0.894061705186332\n",
      "Precision =  0.8794750352828348\n",
      "Recall =  0.894061705186332\n",
      "F1-Score =  0.8830697026776136\n"
     ]
    },
    {
     "data": {
      "image/png": "[encoded data removed]",
      "text/plain": [
       "<Figure size 640x480 with 2 Axes>"
      ]
     },
     "metadata": {},
     "output_type": "display_data"
    }
   ],
   "source": [
    "y_pred_train = model.predict(x_train)\n",
    "y_pred_test = model.predict(x_test)\n",
    "\n",
    "print(\"Train Accuracy:\", accuracy_score(y_train, y_pred_train))\n",
    "print(\"Test Accuracy:\", accuracy_score(y_test, y_pred_test))\n",
    "\n",
    "precision_rf = precision_score(y_test, y_pred_test, average='weighted')\n",
    "recall_rf = recall_score(y_test, y_pred_test, average='weighted')\n",
    "f1_rf = f1_score(y_test, y_pred_test, average='weighted')\n",
    "\n",
    "print('Precision = ', precision_rf)\n",
    "print('Recall = ', recall_rf)\n",
    "print('F1-Score = ', f1_rf)\n",
    "\n",
    "sns.heatmap(confusion_matrix(y_test, y_pred_test), annot=True)\n",
    "plt.show()\n"
   ]
  },
  {
   "cell_type": "markdown",
   "metadata": {},
   "source": [
    "### 3. Model Improvement Strategies: Discuss potential methods or approaches to enhance model performance. This could include feature engineering, different algorithms, or refining the data preprocessing steps."
   ]
  },
  {
   "cell_type": "markdown",
   "metadata": {},
   "source": [
    "#### Here I have used RandomizedSearchCV for hyperparameter tuning, which is a faster and increased efficiency compared to GridSearchCV. "
   ]
  },
  {
   "cell_type": "code",
   "execution_count": 38,
   "metadata": {},
   "outputs": [
    {
     "data": {
      "text/html": [
       "<div>\n",
       "<style scoped>\n",
       "    .dataframe tbody tr th:only-of-type {\n",
       "        vertical-align: middle;\n",
       "    }\n",
       "\n",
       "    .dataframe tbody tr th {\n",
       "        vertical-align: top;\n",
       "    }\n",
       "\n",
       "    .dataframe thead th {\n",
       "        text-align: right;\n",
       "    }\n",
       "</style>\n",
       "<table border=\"1\" class=\"dataframe\">\n",
       "  <thead>\n",
       "    <tr style=\"text-align: right;\">\n",
       "      <th></th>\n",
       "      <th>Customer_number</th>\n",
       "      <th>Insurance</th>\n",
       "      <th>balance</th>\n",
       "      <th>housing</th>\n",
       "      <th>loan</th>\n",
       "      <th>duration</th>\n",
       "      <th>campaign</th>\n",
       "      <th>last_contact_day</th>\n",
       "      <th>previous</th>\n",
       "      <th>Term Deposit</th>\n",
       "      <th>...</th>\n",
       "      <th>marital_divorced</th>\n",
       "      <th>marital_married</th>\n",
       "      <th>marital_single</th>\n",
       "      <th>education_primary</th>\n",
       "      <th>education_secondary</th>\n",
       "      <th>education_tertiary</th>\n",
       "      <th>education_unknown</th>\n",
       "      <th>Gender_F</th>\n",
       "      <th>Gender_M</th>\n",
       "      <th>job_encoded</th>\n",
       "    </tr>\n",
       "  </thead>\n",
       "  <tbody>\n",
       "    <tr>\n",
       "      <th>0</th>\n",
       "      <td>1001</td>\n",
       "      <td>0</td>\n",
       "      <td>2143.0</td>\n",
       "      <td>1</td>\n",
       "      <td>0</td>\n",
       "      <td>261.0</td>\n",
       "      <td>1</td>\n",
       "      <td>2</td>\n",
       "      <td>0</td>\n",
       "      <td>0</td>\n",
       "      <td>...</td>\n",
       "      <td>0.0</td>\n",
       "      <td>1.0</td>\n",
       "      <td>0.0</td>\n",
       "      <td>0.0</td>\n",
       "      <td>0.0</td>\n",
       "      <td>1.0</td>\n",
       "      <td>0.0</td>\n",
       "      <td>0.0</td>\n",
       "      <td>1.0</td>\n",
       "      <td>4</td>\n",
       "    </tr>\n",
       "    <tr>\n",
       "      <th>1</th>\n",
       "      <td>1002</td>\n",
       "      <td>0</td>\n",
       "      <td>29.0</td>\n",
       "      <td>1</td>\n",
       "      <td>0</td>\n",
       "      <td>151.0</td>\n",
       "      <td>1</td>\n",
       "      <td>2</td>\n",
       "      <td>0</td>\n",
       "      <td>0</td>\n",
       "      <td>...</td>\n",
       "      <td>0.0</td>\n",
       "      <td>0.0</td>\n",
       "      <td>1.0</td>\n",
       "      <td>0.0</td>\n",
       "      <td>1.0</td>\n",
       "      <td>0.0</td>\n",
       "      <td>0.0</td>\n",
       "      <td>0.0</td>\n",
       "      <td>1.0</td>\n",
       "      <td>9</td>\n",
       "    </tr>\n",
       "    <tr>\n",
       "      <th>2</th>\n",
       "      <td>1003</td>\n",
       "      <td>0</td>\n",
       "      <td>2.0</td>\n",
       "      <td>1</td>\n",
       "      <td>1</td>\n",
       "      <td>76.0</td>\n",
       "      <td>1</td>\n",
       "      <td>2</td>\n",
       "      <td>0</td>\n",
       "      <td>0</td>\n",
       "      <td>...</td>\n",
       "      <td>0.0</td>\n",
       "      <td>1.0</td>\n",
       "      <td>0.0</td>\n",
       "      <td>0.0</td>\n",
       "      <td>1.0</td>\n",
       "      <td>0.0</td>\n",
       "      <td>0.0</td>\n",
       "      <td>1.0</td>\n",
       "      <td>0.0</td>\n",
       "      <td>2</td>\n",
       "    </tr>\n",
       "    <tr>\n",
       "      <th>3</th>\n",
       "      <td>1004</td>\n",
       "      <td>0</td>\n",
       "      <td>1506.0</td>\n",
       "      <td>1</td>\n",
       "      <td>0</td>\n",
       "      <td>92.0</td>\n",
       "      <td>1</td>\n",
       "      <td>2</td>\n",
       "      <td>0</td>\n",
       "      <td>0</td>\n",
       "      <td>...</td>\n",
       "      <td>0.0</td>\n",
       "      <td>1.0</td>\n",
       "      <td>0.0</td>\n",
       "      <td>0.0</td>\n",
       "      <td>0.0</td>\n",
       "      <td>0.0</td>\n",
       "      <td>1.0</td>\n",
       "      <td>1.0</td>\n",
       "      <td>0.0</td>\n",
       "      <td>1</td>\n",
       "    </tr>\n",
       "    <tr>\n",
       "      <th>4</th>\n",
       "      <td>1005</td>\n",
       "      <td>0</td>\n",
       "      <td>1.0</td>\n",
       "      <td>0</td>\n",
       "      <td>0</td>\n",
       "      <td>198.0</td>\n",
       "      <td>1</td>\n",
       "      <td>2</td>\n",
       "      <td>0</td>\n",
       "      <td>0</td>\n",
       "      <td>...</td>\n",
       "      <td>0.0</td>\n",
       "      <td>0.0</td>\n",
       "      <td>1.0</td>\n",
       "      <td>0.0</td>\n",
       "      <td>0.0</td>\n",
       "      <td>0.0</td>\n",
       "      <td>1.0</td>\n",
       "      <td>0.0</td>\n",
       "      <td>1.0</td>\n",
       "      <td>11</td>\n",
       "    </tr>\n",
       "    <tr>\n",
       "      <th>...</th>\n",
       "      <td>...</td>\n",
       "      <td>...</td>\n",
       "      <td>...</td>\n",
       "      <td>...</td>\n",
       "      <td>...</td>\n",
       "      <td>...</td>\n",
       "      <td>...</td>\n",
       "      <td>...</td>\n",
       "      <td>...</td>\n",
       "      <td>...</td>\n",
       "      <td>...</td>\n",
       "      <td>...</td>\n",
       "      <td>...</td>\n",
       "      <td>...</td>\n",
       "      <td>...</td>\n",
       "      <td>...</td>\n",
       "      <td>...</td>\n",
       "      <td>...</td>\n",
       "      <td>...</td>\n",
       "      <td>...</td>\n",
       "      <td>...</td>\n",
       "    </tr>\n",
       "    <tr>\n",
       "      <th>24995</th>\n",
       "      <td>25996</td>\n",
       "      <td>1</td>\n",
       "      <td>1709.0</td>\n",
       "      <td>0</td>\n",
       "      <td>1</td>\n",
       "      <td>288.0</td>\n",
       "      <td>1</td>\n",
       "      <td>1</td>\n",
       "      <td>0</td>\n",
       "      <td>0</td>\n",
       "      <td>...</td>\n",
       "      <td>0.0</td>\n",
       "      <td>0.0</td>\n",
       "      <td>1.0</td>\n",
       "      <td>0.0</td>\n",
       "      <td>0.0</td>\n",
       "      <td>1.0</td>\n",
       "      <td>0.0</td>\n",
       "      <td>0.0</td>\n",
       "      <td>1.0</td>\n",
       "      <td>2</td>\n",
       "    </tr>\n",
       "    <tr>\n",
       "      <th>24996</th>\n",
       "      <td>25997</td>\n",
       "      <td>0</td>\n",
       "      <td>2619.0</td>\n",
       "      <td>1</td>\n",
       "      <td>0</td>\n",
       "      <td>77.0</td>\n",
       "      <td>2</td>\n",
       "      <td>1</td>\n",
       "      <td>0</td>\n",
       "      <td>0</td>\n",
       "      <td>...</td>\n",
       "      <td>0.0</td>\n",
       "      <td>1.0</td>\n",
       "      <td>0.0</td>\n",
       "      <td>0.0</td>\n",
       "      <td>1.0</td>\n",
       "      <td>0.0</td>\n",
       "      <td>0.0</td>\n",
       "      <td>0.0</td>\n",
       "      <td>1.0</td>\n",
       "      <td>9</td>\n",
       "    </tr>\n",
       "    <tr>\n",
       "      <th>24997</th>\n",
       "      <td>25998</td>\n",
       "      <td>0</td>\n",
       "      <td>18777.0</td>\n",
       "      <td>1</td>\n",
       "      <td>0</td>\n",
       "      <td>535.0</td>\n",
       "      <td>1</td>\n",
       "      <td>1</td>\n",
       "      <td>0</td>\n",
       "      <td>0</td>\n",
       "      <td>...</td>\n",
       "      <td>0.0</td>\n",
       "      <td>0.0</td>\n",
       "      <td>1.0</td>\n",
       "      <td>0.0</td>\n",
       "      <td>1.0</td>\n",
       "      <td>0.0</td>\n",
       "      <td>0.0</td>\n",
       "      <td>1.0</td>\n",
       "      <td>0.0</td>\n",
       "      <td>9</td>\n",
       "    </tr>\n",
       "    <tr>\n",
       "      <th>24998</th>\n",
       "      <td>25999</td>\n",
       "      <td>0</td>\n",
       "      <td>2171.0</td>\n",
       "      <td>1</td>\n",
       "      <td>1</td>\n",
       "      <td>1034.0</td>\n",
       "      <td>1</td>\n",
       "      <td>1</td>\n",
       "      <td>0</td>\n",
       "      <td>1</td>\n",
       "      <td>...</td>\n",
       "      <td>1.0</td>\n",
       "      <td>0.0</td>\n",
       "      <td>0.0</td>\n",
       "      <td>0.0</td>\n",
       "      <td>0.0</td>\n",
       "      <td>1.0</td>\n",
       "      <td>0.0</td>\n",
       "      <td>0.0</td>\n",
       "      <td>1.0</td>\n",
       "      <td>4</td>\n",
       "    </tr>\n",
       "    <tr>\n",
       "      <th>24999</th>\n",
       "      <td>26000</td>\n",
       "      <td>0</td>\n",
       "      <td>83.0</td>\n",
       "      <td>1</td>\n",
       "      <td>1</td>\n",
       "      <td>118.0</td>\n",
       "      <td>2</td>\n",
       "      <td>196</td>\n",
       "      <td>1</td>\n",
       "      <td>0</td>\n",
       "      <td>...</td>\n",
       "      <td>1.0</td>\n",
       "      <td>0.0</td>\n",
       "      <td>0.0</td>\n",
       "      <td>0.0</td>\n",
       "      <td>1.0</td>\n",
       "      <td>0.0</td>\n",
       "      <td>0.0</td>\n",
       "      <td>1.0</td>\n",
       "      <td>0.0</td>\n",
       "      <td>0</td>\n",
       "    </tr>\n",
       "  </tbody>\n",
       "</table>\n",
       "<p>25000 rows × 31 columns</p>\n",
       "</div>"
      ],
      "text/plain": [
       "       Customer_number  Insurance  balance  housing  loan  duration  campaign  \\\n",
       "0                 1001          0   2143.0        1     0     261.0         1   \n",
       "1                 1002          0     29.0        1     0     151.0         1   \n",
       "2                 1003          0      2.0        1     1      76.0         1   \n",
       "3                 1004          0   1506.0        1     0      92.0         1   \n",
       "4                 1005          0      1.0        0     0     198.0         1   \n",
       "...                ...        ...      ...      ...   ...       ...       ...   \n",
       "24995            25996          1   1709.0        0     1     288.0         1   \n",
       "24996            25997          0   2619.0        1     0      77.0         2   \n",
       "24997            25998          0  18777.0        1     0     535.0         1   \n",
       "24998            25999          0   2171.0        1     1    1034.0         1   \n",
       "24999            26000          0     83.0        1     1     118.0         2   \n",
       "\n",
       "       last_contact_day  previous  Term Deposit  ...  marital_divorced  \\\n",
       "0                     2         0             0  ...               0.0   \n",
       "1                     2         0             0  ...               0.0   \n",
       "2                     2         0             0  ...               0.0   \n",
       "3                     2         0             0  ...               0.0   \n",
       "4                     2         0             0  ...               0.0   \n",
       "...                 ...       ...           ...  ...               ...   \n",
       "24995                 1         0             0  ...               0.0   \n",
       "24996                 1         0             0  ...               0.0   \n",
       "24997                 1         0             0  ...               0.0   \n",
       "24998                 1         0             1  ...               1.0   \n",
       "24999               196         1             0  ...               1.0   \n",
       "\n",
       "       marital_married  marital_single  education_primary  \\\n",
       "0                  1.0             0.0                0.0   \n",
       "1                  0.0             1.0                0.0   \n",
       "2                  1.0             0.0                0.0   \n",
       "3                  1.0             0.0                0.0   \n",
       "4                  0.0             1.0                0.0   \n",
       "...                ...             ...                ...   \n",
       "24995              0.0             1.0                0.0   \n",
       "24996              1.0             0.0                0.0   \n",
       "24997              0.0             1.0                0.0   \n",
       "24998              0.0             0.0                0.0   \n",
       "24999              0.0             0.0                0.0   \n",
       "\n",
       "       education_secondary  education_tertiary  education_unknown  Gender_F  \\\n",
       "0                      0.0                 1.0                0.0       0.0   \n",
       "1                      1.0                 0.0                0.0       0.0   \n",
       "2                      1.0                 0.0                0.0       1.0   \n",
       "3                      0.0                 0.0                1.0       1.0   \n",
       "4                      0.0                 0.0                1.0       0.0   \n",
       "...                    ...                 ...                ...       ...   \n",
       "24995                  0.0                 1.0                0.0       0.0   \n",
       "24996                  1.0                 0.0                0.0       0.0   \n",
       "24997                  1.0                 0.0                0.0       1.0   \n",
       "24998                  0.0                 1.0                0.0       0.0   \n",
       "24999                  1.0                 0.0                0.0       1.0   \n",
       "\n",
       "       Gender_M  job_encoded  \n",
       "0           1.0            4  \n",
       "1           1.0            9  \n",
       "2           0.0            2  \n",
       "3           0.0            1  \n",
       "4           1.0           11  \n",
       "...         ...          ...  \n",
       "24995       1.0            2  \n",
       "24996       1.0            9  \n",
       "24997       0.0            9  \n",
       "24998       1.0            4  \n",
       "24999       0.0            0  \n",
       "\n",
       "[25000 rows x 31 columns]"
      ]
     },
     "execution_count": 38,
     "metadata": {},
     "output_type": "execute_result"
    }
   ],
   "source": [
    "# Considering only 25000 Rows of Data for Faster HyperParameter Tuning\n",
    "df_final = df_encoded[:25000]\n",
    "df_final"
   ]
  },
  {
   "cell_type": "code",
   "execution_count": 39,
   "metadata": {},
   "outputs": [],
   "source": [
    "rf = RandomForestClassifier(random_state=42)"
   ]
  },
  {
   "cell_type": "code",
   "execution_count": 40,
   "metadata": {},
   "outputs": [],
   "source": [
    "# Hyperparameter grid\n",
    "param_grid = {\n",
    "    'n_estimators': [100, 200, 300, 400, 500],\n",
    "    'max_depth': [None, 10, 20, 30, 40],\n",
    "    'max_features': ['auto', 'sqrt', 'log2'],\n",
    "    'min_samples_split': [2, 5, 10],\n",
    "    'min_samples_leaf': [1, 2, 4],\n",
    "    'bootstrap': [True, False]\n",
    "}\n"
   ]
  },
  {
   "cell_type": "code",
   "execution_count": 41,
   "metadata": {},
   "outputs": [
    {
     "name": "stdout",
     "output_type": "stream",
     "text": [
      "Fitting 5 folds for each of 20 candidates, totalling 100 fits\n",
      "Best hyperparameters: {'n_estimators': 100, 'min_samples_split': 10, 'min_samples_leaf': 2, 'max_features': 'log2', 'max_depth': None, 'bootstrap': True}\n"
     ]
    }
   ],
   "source": [
    "# RandomizedSearchCV\n",
    "random_search = RandomizedSearchCV(estimator=rf, param_distributions=param_grid, n_iter=20, cv=5, verbose=2, \n",
    "                                   random_state=42, n_jobs=-1, scoring='f1_weighted')\n",
    "\n",
    "# Fit the model\n",
    "random_search.fit(x_train, y_train)\n",
    "\n",
    "# Get the best parameters\n",
    "best_params = random_search.best_params_\n",
    "print(\"Best hyperparameters:\", best_params)"
   ]
  },
  {
   "cell_type": "code",
   "execution_count": 42,
   "metadata": {},
   "outputs": [
    {
     "name": "stdout",
     "output_type": "stream",
     "text": [
      "Best Threshold: 0.4, Best F1-Score: 0.8898618727802645\n"
     ]
    }
   ],
   "source": [
    "# Get prediction probabilities\n",
    "y_prob_test = random_search.best_estimator_.predict_proba(x_test)[:, 1]\n",
    "\n",
    "# Experiment with different thresholds\n",
    "best_f1 = 0\n",
    "best_threshold = 0.5\n",
    "\n",
    "for threshold in np.arange(0.1, 1, 0.1):\n",
    "    binary_y_pred = np.where(y_prob_test >= threshold, 1, 0)\n",
    "    f1 = f1_score(y_test, binary_y_pred, average='weighted')\n",
    "    if f1 > best_f1:\n",
    "        best_f1 = f1\n",
    "        best_threshold = threshold\n",
    "\n",
    "print(f\"Best Threshold: {best_threshold}, Best F1-Score: {best_f1}\")"
   ]
  },
  {
   "cell_type": "code",
   "execution_count": 43,
   "metadata": {},
   "outputs": [
    {
     "name": "stdout",
     "output_type": "stream",
     "text": [
      "Final Precision: 0.8872118250590176\n",
      "Final Recall: 0.8933982085591065\n",
      "Final F1-Score: 0.8898618727802645\n"
     ]
    }
   ],
   "source": [
    "# Final prediction using the best threshold\n",
    "binary_y_pred = np.where(y_prob_test >= best_threshold, 1, 0)\n",
    "\n",
    "# Final evaluation metrics\n",
    "final_precision = precision_score(y_test, binary_y_pred, average='weighted')\n",
    "final_recall = recall_score(y_test, binary_y_pred, average='weighted')\n",
    "final_f1 = f1_score(y_test, binary_y_pred, average='weighted')\n",
    "\n",
    "print(f\"Final Precision: {final_precision}\")\n",
    "print(f\"Final Recall: {final_recall}\")\n",
    "print(f\"Final F1-Score: {final_f1}\")"
   ]
  },
  {
   "cell_type": "code",
   "execution_count": 44,
   "metadata": {},
   "outputs": [
    {
     "name": "stdout",
     "output_type": "stream",
     "text": [
      "The Best Possible Model Accuracy comes down to be =  0.8898618727802645\n",
      "Thus, After HyperParameter Tuning the Model Accuracy increases from \n",
      " 0.8830697026776136 to 0.8898618727802645 by 0.006792170102650874\n"
     ]
    }
   ],
   "source": [
    "print('The Best Possible Model Accuracy comes down to be = ',final_f1)\n",
    "print('Thus, After HyperParameter Tuning the Model Accuracy increases from \\n', f1_rf , 'to', final_f1, 'by', final_f1-f1_rf)"
   ]
  }
 ],
 "metadata": {
  "kernelspec": {
   "display_name": "Python 3",
   "language": "python",
   "name": "python3"
  },
  "language_info": {
   "codemirror_mode": {
    "name": "ipython",
    "version": 3
   },
   "file_extension": ".py",
   "mimetype": "text/x-python",
   "name": "python",
   "nbconvert_exporter": "python",
   "pygments_lexer": "ipython3",
   "version": "3.11.7"
  }
 },
 "nbformat": 4,
 "nbformat_minor": 2
}
